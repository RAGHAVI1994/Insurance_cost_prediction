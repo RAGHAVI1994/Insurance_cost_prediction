{
 "cells": [
  {
   "cell_type": "markdown",
   "id": "f0942844",
   "metadata": {},
   "source": [
    "### PROJECT TEAM ID : \" PTID-CDS-JUL-23-1578 \""
   ]
  },
  {
   "cell_type": "markdown",
   "id": "a6b9572a",
   "metadata": {},
   "source": [
    "### PROJECT ID :  PRCP-1021-InsCostPred - Insurance Cost Prediction"
   ]
  },
  {
   "cell_type": "markdown",
   "id": "45718879",
   "metadata": {},
   "source": [
    "## Buisness case: Predicting the cost of insurance considering multiple variables in the data"
   ]
  },
  {
   "cell_type": "markdown",
   "id": "1f51e732",
   "metadata": {},
   "source": [
    "## Problem Statement\n",
    "* Task-1: Prepare complete data analysis report on the given data.\n",
    "* Task-2: Considering various variables such as age,bmi, number of children and region of the person predict the cost of the \n",
    " insurance to be levied on the person.\n",
    "* Task-3: Prepare analysis report on how model will help the insurer to predict the cost of insurance\n",
    " which has to be higher in order to gain profits."
   ]
  },
  {
   "cell_type": "markdown",
   "id": "e28564e8",
   "metadata": {},
   "source": [
    "## IMPORT LIBRARIES"
   ]
  },
  {
   "cell_type": "code",
   "execution_count": 1,
   "id": "95bd05f9",
   "metadata": {},
   "outputs": [],
   "source": [
    "#Importing libraries\n",
    "import numpy as np\n",
    "import pandas as pd\n",
    "import matplotlib.pyplot as plt\n",
    "%matplotlib inline\n",
    "import seaborn as sns\n",
    "import warnings\n",
    "warnings.filterwarnings('ignore')"
   ]
  },
  {
   "cell_type": "markdown",
   "id": "83b4a139",
   "metadata": {},
   "source": [
    "## LOAD DATASET"
   ]
  },
  {
   "cell_type": "code",
   "execution_count": 2,
   "id": "0b54d2fe",
   "metadata": {},
   "outputs": [],
   "source": [
    "data=pd.read_csv(\"datasets_13720_18513_insurance(1).csv\")"
   ]
  },
  {
   "cell_type": "code",
   "execution_count": 3,
   "id": "66836dfb",
   "metadata": {},
   "outputs": [
    {
     "data": {
      "text/html": [
       "<div>\n",
       "<style scoped>\n",
       "    .dataframe tbody tr th:only-of-type {\n",
       "        vertical-align: middle;\n",
       "    }\n",
       "\n",
       "    .dataframe tbody tr th {\n",
       "        vertical-align: top;\n",
       "    }\n",
       "\n",
       "    .dataframe thead th {\n",
       "        text-align: right;\n",
       "    }\n",
       "</style>\n",
       "<table border=\"1\" class=\"dataframe\">\n",
       "  <thead>\n",
       "    <tr style=\"text-align: right;\">\n",
       "      <th></th>\n",
       "      <th>age</th>\n",
       "      <th>sex</th>\n",
       "      <th>bmi</th>\n",
       "      <th>children</th>\n",
       "      <th>smoker</th>\n",
       "      <th>region</th>\n",
       "      <th>charges</th>\n",
       "    </tr>\n",
       "  </thead>\n",
       "  <tbody>\n",
       "    <tr>\n",
       "      <th>0</th>\n",
       "      <td>19</td>\n",
       "      <td>female</td>\n",
       "      <td>27.900</td>\n",
       "      <td>0</td>\n",
       "      <td>yes</td>\n",
       "      <td>southwest</td>\n",
       "      <td>16884.92400</td>\n",
       "    </tr>\n",
       "    <tr>\n",
       "      <th>1</th>\n",
       "      <td>18</td>\n",
       "      <td>male</td>\n",
       "      <td>33.770</td>\n",
       "      <td>1</td>\n",
       "      <td>no</td>\n",
       "      <td>southeast</td>\n",
       "      <td>1725.55230</td>\n",
       "    </tr>\n",
       "    <tr>\n",
       "      <th>2</th>\n",
       "      <td>28</td>\n",
       "      <td>male</td>\n",
       "      <td>33.000</td>\n",
       "      <td>3</td>\n",
       "      <td>no</td>\n",
       "      <td>southeast</td>\n",
       "      <td>4449.46200</td>\n",
       "    </tr>\n",
       "    <tr>\n",
       "      <th>3</th>\n",
       "      <td>33</td>\n",
       "      <td>male</td>\n",
       "      <td>22.705</td>\n",
       "      <td>0</td>\n",
       "      <td>no</td>\n",
       "      <td>northwest</td>\n",
       "      <td>21984.47061</td>\n",
       "    </tr>\n",
       "    <tr>\n",
       "      <th>4</th>\n",
       "      <td>32</td>\n",
       "      <td>male</td>\n",
       "      <td>28.880</td>\n",
       "      <td>0</td>\n",
       "      <td>no</td>\n",
       "      <td>northwest</td>\n",
       "      <td>3866.85520</td>\n",
       "    </tr>\n",
       "    <tr>\n",
       "      <th>...</th>\n",
       "      <td>...</td>\n",
       "      <td>...</td>\n",
       "      <td>...</td>\n",
       "      <td>...</td>\n",
       "      <td>...</td>\n",
       "      <td>...</td>\n",
       "      <td>...</td>\n",
       "    </tr>\n",
       "    <tr>\n",
       "      <th>1333</th>\n",
       "      <td>50</td>\n",
       "      <td>male</td>\n",
       "      <td>30.970</td>\n",
       "      <td>3</td>\n",
       "      <td>no</td>\n",
       "      <td>northwest</td>\n",
       "      <td>10600.54830</td>\n",
       "    </tr>\n",
       "    <tr>\n",
       "      <th>1334</th>\n",
       "      <td>18</td>\n",
       "      <td>female</td>\n",
       "      <td>31.920</td>\n",
       "      <td>0</td>\n",
       "      <td>no</td>\n",
       "      <td>northeast</td>\n",
       "      <td>2205.98080</td>\n",
       "    </tr>\n",
       "    <tr>\n",
       "      <th>1335</th>\n",
       "      <td>18</td>\n",
       "      <td>female</td>\n",
       "      <td>36.850</td>\n",
       "      <td>0</td>\n",
       "      <td>no</td>\n",
       "      <td>southeast</td>\n",
       "      <td>1629.83350</td>\n",
       "    </tr>\n",
       "    <tr>\n",
       "      <th>1336</th>\n",
       "      <td>21</td>\n",
       "      <td>female</td>\n",
       "      <td>25.800</td>\n",
       "      <td>0</td>\n",
       "      <td>no</td>\n",
       "      <td>southwest</td>\n",
       "      <td>2007.94500</td>\n",
       "    </tr>\n",
       "    <tr>\n",
       "      <th>1337</th>\n",
       "      <td>61</td>\n",
       "      <td>female</td>\n",
       "      <td>29.070</td>\n",
       "      <td>0</td>\n",
       "      <td>yes</td>\n",
       "      <td>northwest</td>\n",
       "      <td>29141.36030</td>\n",
       "    </tr>\n",
       "  </tbody>\n",
       "</table>\n",
       "<p>1338 rows × 7 columns</p>\n",
       "</div>"
      ],
      "text/plain": [
       "      age     sex     bmi  children smoker     region      charges\n",
       "0      19  female  27.900         0    yes  southwest  16884.92400\n",
       "1      18    male  33.770         1     no  southeast   1725.55230\n",
       "2      28    male  33.000         3     no  southeast   4449.46200\n",
       "3      33    male  22.705         0     no  northwest  21984.47061\n",
       "4      32    male  28.880         0     no  northwest   3866.85520\n",
       "...   ...     ...     ...       ...    ...        ...          ...\n",
       "1333   50    male  30.970         3     no  northwest  10600.54830\n",
       "1334   18  female  31.920         0     no  northeast   2205.98080\n",
       "1335   18  female  36.850         0     no  southeast   1629.83350\n",
       "1336   21  female  25.800         0     no  southwest   2007.94500\n",
       "1337   61  female  29.070         0    yes  northwest  29141.36030\n",
       "\n",
       "[1338 rows x 7 columns]"
      ]
     },
     "execution_count": 3,
     "metadata": {},
     "output_type": "execute_result"
    }
   ],
   "source": [
    "# getting the fews rows of data\n",
    "data "
   ]
  },
  {
   "cell_type": "markdown",
   "id": "80451ef5",
   "metadata": {},
   "source": [
    "## Domain Analysis"
   ]
  },
  {
   "cell_type": "markdown",
   "id": "1a9da927",
   "metadata": {},
   "source": [
    "### Age: \n",
    "  * age of primary beneficiary\n",
    "### Sex: \n",
    "  * insurance contractor gender, female, male\n",
    "### bmi: \n",
    "  * Body mass index, providing an understanding of body, weights that are relatively high or low relative to height, objective      index of body weight (kg / m ^ 2) using the ratio of height to weight, ideally 18.5 to 24.9\n",
    "### children: \n",
    "  * Number of children covered by health insurance / Number of dependents\n",
    "### smoker:\n",
    "  * Smoking\n",
    "### Region:\n",
    "  * the beneficiary's residential area in the US, northeast, southeast, southwest, northwest\n",
    "### charges: \n",
    "  * Individual medical costs billed by health insurance"
   ]
  },
  {
   "cell_type": "markdown",
   "id": "2a0bdc10",
   "metadata": {},
   "source": [
    "## BASIC CHECKS"
   ]
  },
  {
   "cell_type": "code",
   "execution_count": 4,
   "id": "16aac7b4",
   "metadata": {},
   "outputs": [
    {
     "data": {
      "text/plain": [
       "(1338, 7)"
      ]
     },
     "execution_count": 4,
     "metadata": {},
     "output_type": "execute_result"
    }
   ],
   "source": [
    "#Shape of the dataframe\n",
    "data.shape"
   ]
  },
  {
   "cell_type": "markdown",
   "id": "f4ca49b8",
   "metadata": {},
   "source": [
    "* Observation: There are 1338 observation and 7 columns"
   ]
  },
  {
   "cell_type": "code",
   "execution_count": 5,
   "id": "4fd91d72",
   "metadata": {},
   "outputs": [
    {
     "data": {
      "text/html": [
       "<div>\n",
       "<style scoped>\n",
       "    .dataframe tbody tr th:only-of-type {\n",
       "        vertical-align: middle;\n",
       "    }\n",
       "\n",
       "    .dataframe tbody tr th {\n",
       "        vertical-align: top;\n",
       "    }\n",
       "\n",
       "    .dataframe thead th {\n",
       "        text-align: right;\n",
       "    }\n",
       "</style>\n",
       "<table border=\"1\" class=\"dataframe\">\n",
       "  <thead>\n",
       "    <tr style=\"text-align: right;\">\n",
       "      <th></th>\n",
       "      <th>age</th>\n",
       "      <th>sex</th>\n",
       "      <th>bmi</th>\n",
       "      <th>children</th>\n",
       "      <th>smoker</th>\n",
       "      <th>region</th>\n",
       "      <th>charges</th>\n",
       "    </tr>\n",
       "  </thead>\n",
       "  <tbody>\n",
       "    <tr>\n",
       "      <th>0</th>\n",
       "      <td>19</td>\n",
       "      <td>female</td>\n",
       "      <td>27.900</td>\n",
       "      <td>0</td>\n",
       "      <td>yes</td>\n",
       "      <td>southwest</td>\n",
       "      <td>16884.92400</td>\n",
       "    </tr>\n",
       "    <tr>\n",
       "      <th>1</th>\n",
       "      <td>18</td>\n",
       "      <td>male</td>\n",
       "      <td>33.770</td>\n",
       "      <td>1</td>\n",
       "      <td>no</td>\n",
       "      <td>southeast</td>\n",
       "      <td>1725.55230</td>\n",
       "    </tr>\n",
       "    <tr>\n",
       "      <th>2</th>\n",
       "      <td>28</td>\n",
       "      <td>male</td>\n",
       "      <td>33.000</td>\n",
       "      <td>3</td>\n",
       "      <td>no</td>\n",
       "      <td>southeast</td>\n",
       "      <td>4449.46200</td>\n",
       "    </tr>\n",
       "    <tr>\n",
       "      <th>3</th>\n",
       "      <td>33</td>\n",
       "      <td>male</td>\n",
       "      <td>22.705</td>\n",
       "      <td>0</td>\n",
       "      <td>no</td>\n",
       "      <td>northwest</td>\n",
       "      <td>21984.47061</td>\n",
       "    </tr>\n",
       "    <tr>\n",
       "      <th>4</th>\n",
       "      <td>32</td>\n",
       "      <td>male</td>\n",
       "      <td>28.880</td>\n",
       "      <td>0</td>\n",
       "      <td>no</td>\n",
       "      <td>northwest</td>\n",
       "      <td>3866.85520</td>\n",
       "    </tr>\n",
       "  </tbody>\n",
       "</table>\n",
       "</div>"
      ],
      "text/plain": [
       "   age     sex     bmi  children smoker     region      charges\n",
       "0   19  female  27.900         0    yes  southwest  16884.92400\n",
       "1   18    male  33.770         1     no  southeast   1725.55230\n",
       "2   28    male  33.000         3     no  southeast   4449.46200\n",
       "3   33    male  22.705         0     no  northwest  21984.47061\n",
       "4   32    male  28.880         0     no  northwest   3866.85520"
      ]
     },
     "execution_count": 5,
     "metadata": {},
     "output_type": "execute_result"
    }
   ],
   "source": [
    "#Getting the first five rows\n",
    "data.head()"
   ]
  },
  {
   "cell_type": "code",
   "execution_count": 6,
   "id": "a7916fea",
   "metadata": {},
   "outputs": [
    {
     "data": {
      "text/html": [
       "<div>\n",
       "<style scoped>\n",
       "    .dataframe tbody tr th:only-of-type {\n",
       "        vertical-align: middle;\n",
       "    }\n",
       "\n",
       "    .dataframe tbody tr th {\n",
       "        vertical-align: top;\n",
       "    }\n",
       "\n",
       "    .dataframe thead th {\n",
       "        text-align: right;\n",
       "    }\n",
       "</style>\n",
       "<table border=\"1\" class=\"dataframe\">\n",
       "  <thead>\n",
       "    <tr style=\"text-align: right;\">\n",
       "      <th></th>\n",
       "      <th>age</th>\n",
       "      <th>sex</th>\n",
       "      <th>bmi</th>\n",
       "      <th>children</th>\n",
       "      <th>smoker</th>\n",
       "      <th>region</th>\n",
       "      <th>charges</th>\n",
       "    </tr>\n",
       "  </thead>\n",
       "  <tbody>\n",
       "    <tr>\n",
       "      <th>1333</th>\n",
       "      <td>50</td>\n",
       "      <td>male</td>\n",
       "      <td>30.97</td>\n",
       "      <td>3</td>\n",
       "      <td>no</td>\n",
       "      <td>northwest</td>\n",
       "      <td>10600.5483</td>\n",
       "    </tr>\n",
       "    <tr>\n",
       "      <th>1334</th>\n",
       "      <td>18</td>\n",
       "      <td>female</td>\n",
       "      <td>31.92</td>\n",
       "      <td>0</td>\n",
       "      <td>no</td>\n",
       "      <td>northeast</td>\n",
       "      <td>2205.9808</td>\n",
       "    </tr>\n",
       "    <tr>\n",
       "      <th>1335</th>\n",
       "      <td>18</td>\n",
       "      <td>female</td>\n",
       "      <td>36.85</td>\n",
       "      <td>0</td>\n",
       "      <td>no</td>\n",
       "      <td>southeast</td>\n",
       "      <td>1629.8335</td>\n",
       "    </tr>\n",
       "    <tr>\n",
       "      <th>1336</th>\n",
       "      <td>21</td>\n",
       "      <td>female</td>\n",
       "      <td>25.80</td>\n",
       "      <td>0</td>\n",
       "      <td>no</td>\n",
       "      <td>southwest</td>\n",
       "      <td>2007.9450</td>\n",
       "    </tr>\n",
       "    <tr>\n",
       "      <th>1337</th>\n",
       "      <td>61</td>\n",
       "      <td>female</td>\n",
       "      <td>29.07</td>\n",
       "      <td>0</td>\n",
       "      <td>yes</td>\n",
       "      <td>northwest</td>\n",
       "      <td>29141.3603</td>\n",
       "    </tr>\n",
       "  </tbody>\n",
       "</table>\n",
       "</div>"
      ],
      "text/plain": [
       "      age     sex    bmi  children smoker     region     charges\n",
       "1333   50    male  30.97         3     no  northwest  10600.5483\n",
       "1334   18  female  31.92         0     no  northeast   2205.9808\n",
       "1335   18  female  36.85         0     no  southeast   1629.8335\n",
       "1336   21  female  25.80         0     no  southwest   2007.9450\n",
       "1337   61  female  29.07         0    yes  northwest  29141.3603"
      ]
     },
     "execution_count": 6,
     "metadata": {},
     "output_type": "execute_result"
    }
   ],
   "source": [
    "#Getting the last five rows\n",
    "data.tail()"
   ]
  },
  {
   "cell_type": "code",
   "execution_count": 7,
   "id": "09dbdb10",
   "metadata": {},
   "outputs": [
    {
     "name": "stdout",
     "output_type": "stream",
     "text": [
      "<class 'pandas.core.frame.DataFrame'>\n",
      "RangeIndex: 1338 entries, 0 to 1337\n",
      "Data columns (total 7 columns):\n",
      " #   Column    Non-Null Count  Dtype  \n",
      "---  ------    --------------  -----  \n",
      " 0   age       1338 non-null   int64  \n",
      " 1   sex       1338 non-null   object \n",
      " 2   bmi       1338 non-null   float64\n",
      " 3   children  1338 non-null   int64  \n",
      " 4   smoker    1338 non-null   object \n",
      " 5   region    1338 non-null   object \n",
      " 6   charges   1338 non-null   float64\n",
      "dtypes: float64(2), int64(2), object(3)\n",
      "memory usage: 73.3+ KB\n"
     ]
    }
   ],
   "source": [
    "#To check data type and null values for all columns\n",
    "data.info()"
   ]
  },
  {
   "cell_type": "code",
   "execution_count": 8,
   "id": "0fd112b2",
   "metadata": {},
   "outputs": [
    {
     "data": {
      "text/plain": [
       "age           int64\n",
       "sex          object\n",
       "bmi         float64\n",
       "children      int64\n",
       "smoker       object\n",
       "region       object\n",
       "charges     float64\n",
       "dtype: object"
      ]
     },
     "execution_count": 8,
     "metadata": {},
     "output_type": "execute_result"
    }
   ],
   "source": [
    "#Checking the datatype of the columns\n",
    "data.dtypes"
   ]
  },
  {
   "cell_type": "code",
   "execution_count": 9,
   "id": "37670eda",
   "metadata": {},
   "outputs": [
    {
     "data": {
      "text/html": [
       "<div>\n",
       "<style scoped>\n",
       "    .dataframe tbody tr th:only-of-type {\n",
       "        vertical-align: middle;\n",
       "    }\n",
       "\n",
       "    .dataframe tbody tr th {\n",
       "        vertical-align: top;\n",
       "    }\n",
       "\n",
       "    .dataframe thead th {\n",
       "        text-align: right;\n",
       "    }\n",
       "</style>\n",
       "<table border=\"1\" class=\"dataframe\">\n",
       "  <thead>\n",
       "    <tr style=\"text-align: right;\">\n",
       "      <th></th>\n",
       "      <th>age</th>\n",
       "      <th>bmi</th>\n",
       "      <th>children</th>\n",
       "      <th>charges</th>\n",
       "    </tr>\n",
       "  </thead>\n",
       "  <tbody>\n",
       "    <tr>\n",
       "      <th>count</th>\n",
       "      <td>1338.000000</td>\n",
       "      <td>1338.000000</td>\n",
       "      <td>1338.000000</td>\n",
       "      <td>1338.000000</td>\n",
       "    </tr>\n",
       "    <tr>\n",
       "      <th>mean</th>\n",
       "      <td>39.207025</td>\n",
       "      <td>30.663397</td>\n",
       "      <td>1.094918</td>\n",
       "      <td>13270.422265</td>\n",
       "    </tr>\n",
       "    <tr>\n",
       "      <th>std</th>\n",
       "      <td>14.049960</td>\n",
       "      <td>6.098187</td>\n",
       "      <td>1.205493</td>\n",
       "      <td>12110.011237</td>\n",
       "    </tr>\n",
       "    <tr>\n",
       "      <th>min</th>\n",
       "      <td>18.000000</td>\n",
       "      <td>15.960000</td>\n",
       "      <td>0.000000</td>\n",
       "      <td>1121.873900</td>\n",
       "    </tr>\n",
       "    <tr>\n",
       "      <th>25%</th>\n",
       "      <td>27.000000</td>\n",
       "      <td>26.296250</td>\n",
       "      <td>0.000000</td>\n",
       "      <td>4740.287150</td>\n",
       "    </tr>\n",
       "    <tr>\n",
       "      <th>50%</th>\n",
       "      <td>39.000000</td>\n",
       "      <td>30.400000</td>\n",
       "      <td>1.000000</td>\n",
       "      <td>9382.033000</td>\n",
       "    </tr>\n",
       "    <tr>\n",
       "      <th>75%</th>\n",
       "      <td>51.000000</td>\n",
       "      <td>34.693750</td>\n",
       "      <td>2.000000</td>\n",
       "      <td>16639.912515</td>\n",
       "    </tr>\n",
       "    <tr>\n",
       "      <th>max</th>\n",
       "      <td>64.000000</td>\n",
       "      <td>53.130000</td>\n",
       "      <td>5.000000</td>\n",
       "      <td>63770.428010</td>\n",
       "    </tr>\n",
       "  </tbody>\n",
       "</table>\n",
       "</div>"
      ],
      "text/plain": [
       "               age          bmi     children       charges\n",
       "count  1338.000000  1338.000000  1338.000000   1338.000000\n",
       "mean     39.207025    30.663397     1.094918  13270.422265\n",
       "std      14.049960     6.098187     1.205493  12110.011237\n",
       "min      18.000000    15.960000     0.000000   1121.873900\n",
       "25%      27.000000    26.296250     0.000000   4740.287150\n",
       "50%      39.000000    30.400000     1.000000   9382.033000\n",
       "75%      51.000000    34.693750     2.000000  16639.912515\n",
       "max      64.000000    53.130000     5.000000  63770.428010"
      ]
     },
     "execution_count": 9,
     "metadata": {},
     "output_type": "execute_result"
    }
   ],
   "source": [
    "#Used to view some basic statistical details like percentile,mean,std etc.\n",
    "data.describe()"
   ]
  },
  {
   "cell_type": "code",
   "execution_count": 10,
   "id": "6239d018",
   "metadata": {},
   "outputs": [
    {
     "data": {
      "text/plain": [
       "Index(['age', 'sex', 'bmi', 'children', 'smoker', 'region', 'charges'], dtype='object')"
      ]
     },
     "execution_count": 10,
     "metadata": {},
     "output_type": "execute_result"
    }
   ],
   "source": [
    "#Getting all the column names\n",
    "data.columns"
   ]
  },
  {
   "cell_type": "code",
   "execution_count": 11,
   "id": "d50f6093",
   "metadata": {},
   "outputs": [
    {
     "name": "stdout",
     "output_type": "stream",
     "text": [
      "Categorical Columns: ['sex', 'smoker', 'region']\n"
     ]
    }
   ],
   "source": [
    "#fetching categorical column\n",
    "cat_col = data.select_dtypes(include=['object']).columns.tolist()\n",
    "print(\"Categorical Columns:\", cat_col)"
   ]
  },
  {
   "cell_type": "code",
   "execution_count": 12,
   "id": "7dc8ed98",
   "metadata": {},
   "outputs": [
    {
     "name": "stdout",
     "output_type": "stream",
     "text": [
      "Numerical Columns: ['age', 'bmi', 'children', 'charges']\n"
     ]
    }
   ],
   "source": [
    "#fetching numerrical column\n",
    "num_col = data.select_dtypes(include=['int64', 'float64']).columns.tolist()\n",
    "print(\"Numerical Columns:\", num_col)"
   ]
  },
  {
   "cell_type": "code",
   "execution_count": 13,
   "id": "9c27a5ee",
   "metadata": {},
   "outputs": [
    {
     "data": {
      "text/plain": [
       "age           47\n",
       "sex            2\n",
       "bmi          548\n",
       "children       6\n",
       "smoker         2\n",
       "region         4\n",
       "charges     1337\n",
       "dtype: int64"
      ]
     },
     "execution_count": 13,
     "metadata": {},
     "output_type": "execute_result"
    }
   ],
   "source": [
    "#To check the unique values\n",
    "data.nunique()"
   ]
  },
  {
   "cell_type": "code",
   "execution_count": 14,
   "id": "abc4cdeb",
   "metadata": {},
   "outputs": [
    {
     "data": {
      "text/plain": [
       "age  sex     bmi     children  smoker  region     charges    \n",
       "19   male    30.590  0         no      northwest  1639.56310     2\n",
       "47   male    29.830  3         no      northwest  9620.33070     1\n",
       "48   female  25.850  3         yes     southeast  24180.93350    1\n",
       "             22.800  0         no      southwest  8269.04400     1\n",
       "47   male    47.520  1         no      southeast  8083.91980     1\n",
       "                                                                ..\n",
       "31   female  25.740  0         no      southeast  3756.62160     1\n",
       "             23.600  2         no      southwest  4931.64700     1\n",
       "             21.755  0         no      northwest  4134.08245     1\n",
       "30   male    44.220  2         no      southeast  4266.16580     1\n",
       "64   male    40.480  0         no      southeast  13831.11520    1\n",
       "Length: 1337, dtype: int64"
      ]
     },
     "execution_count": 14,
     "metadata": {},
     "output_type": "execute_result"
    }
   ],
   "source": [
    "data.value_counts()"
   ]
  },
  {
   "cell_type": "markdown",
   "id": "53146232",
   "metadata": {},
   "source": [
    "## EXPLORATORY DATA ANALYSIS (EDA)"
   ]
  },
  {
   "cell_type": "code",
   "execution_count": 15,
   "id": "75d7c438",
   "metadata": {},
   "outputs": [
    {
     "name": "stdout",
     "output_type": "stream",
     "text": [
      "Requirement already satisfied: sweetviz in c:\\users\\hayat\\anaconda3\\lib\\site-packages (2.1.4)\n",
      "Requirement already satisfied: jinja2>=2.11.1 in c:\\users\\hayat\\anaconda3\\lib\\site-packages (from sweetviz) (2.11.3)\n",
      "Requirement already satisfied: numpy>=1.16.0 in c:\\users\\hayat\\anaconda3\\lib\\site-packages (from sweetviz) (1.23.5)\n",
      "Requirement already satisfied: tqdm>=4.43.0 in c:\\users\\hayat\\anaconda3\\lib\\site-packages (from sweetviz) (4.64.1)\n",
      "Requirement already satisfied: pandas!=1.0.0,!=1.0.1,!=1.0.2,>=0.25.3 in c:\\users\\hayat\\anaconda3\\lib\\site-packages (from sweetviz) (1.4.4)\n",
      "Requirement already satisfied: matplotlib>=3.1.3 in c:\\users\\hayat\\anaconda3\\lib\\site-packages (from sweetviz) (3.5.2)\n",
      "Requirement already satisfied: importlib-resources>=1.2.0 in c:\\users\\hayat\\anaconda3\\lib\\site-packages (from sweetviz) (5.12.0)\n",
      "Requirement already satisfied: scipy>=1.3.2 in c:\\users\\hayat\\anaconda3\\lib\\site-packages (from sweetviz) (1.9.1)\n",
      "Requirement already satisfied: zipp>=3.1.0 in c:\\users\\hayat\\anaconda3\\lib\\site-packages (from importlib-resources>=1.2.0->sweetviz) (3.8.0)\n",
      "Requirement already satisfied: MarkupSafe>=0.23 in c:\\users\\hayat\\anaconda3\\lib\\site-packages (from jinja2>=2.11.1->sweetviz) (2.0.1)\n",
      "Requirement already satisfied: pyparsing>=2.2.1 in c:\\users\\hayat\\anaconda3\\lib\\site-packages (from matplotlib>=3.1.3->sweetviz) (3.0.9)\n",
      "Requirement already satisfied: packaging>=20.0 in c:\\users\\hayat\\anaconda3\\lib\\site-packages (from matplotlib>=3.1.3->sweetviz) (21.3)\n",
      "Requirement already satisfied: fonttools>=4.22.0 in c:\\users\\hayat\\anaconda3\\lib\\site-packages (from matplotlib>=3.1.3->sweetviz) (4.25.0)\n",
      "Requirement already satisfied: cycler>=0.10 in c:\\users\\hayat\\anaconda3\\lib\\site-packages (from matplotlib>=3.1.3->sweetviz) (0.11.0)\n",
      "Requirement already satisfied: python-dateutil>=2.7 in c:\\users\\hayat\\anaconda3\\lib\\site-packages (from matplotlib>=3.1.3->sweetviz) (2.8.2)\n",
      "Requirement already satisfied: pillow>=6.2.0 in c:\\users\\hayat\\anaconda3\\lib\\site-packages (from matplotlib>=3.1.3->sweetviz) (9.2.0)\n",
      "Requirement already satisfied: kiwisolver>=1.0.1 in c:\\users\\hayat\\anaconda3\\lib\\site-packages (from matplotlib>=3.1.3->sweetviz) (1.4.2)\n",
      "Requirement already satisfied: pytz>=2020.1 in c:\\users\\hayat\\anaconda3\\lib\\site-packages (from pandas!=1.0.0,!=1.0.1,!=1.0.2,>=0.25.3->sweetviz) (2022.1)\n",
      "Requirement already satisfied: colorama in c:\\users\\hayat\\anaconda3\\lib\\site-packages (from tqdm>=4.43.0->sweetviz) (0.4.5)\n",
      "Requirement already satisfied: six>=1.5 in c:\\users\\hayat\\anaconda3\\lib\\site-packages (from python-dateutil>=2.7->matplotlib>=3.1.3->sweetviz) (1.12.0)\n"
     ]
    }
   ],
   "source": [
    "!pip install sweetviz"
   ]
  },
  {
   "cell_type": "code",
   "execution_count": 16,
   "id": "e5d473c6",
   "metadata": {},
   "outputs": [
    {
     "data": {
      "application/vnd.jupyter.widget-view+json": {
       "model_id": "57d137622e2047edb90c3af70ee548af",
       "version_major": 2,
       "version_minor": 0
      },
      "text/plain": [
       "                                             |                                             | [  0%]   00:00 ->…"
      ]
     },
     "metadata": {},
     "output_type": "display_data"
    },
    {
     "name": "stdout",
     "output_type": "stream",
     "text": [
      "Report SWEETVIZ_REPORT.html was generated! NOTEBOOK/COLAB USERS: the web browser MAY not pop up, regardless, the report IS saved in your notebook/colab files.\n"
     ]
    }
   ],
   "source": [
    "import sweetviz as sv #  library for univariant analysis\n",
    "\n",
    "report=sv.analyze(data) ## pass the original dataframe\n",
    "\n",
    "report.show_html()  # Default arguments will generate to \"SWEETVIZ_REPORT.html\""
   ]
  },
  {
   "cell_type": "markdown",
   "id": "df5e8dfa",
   "metadata": {},
   "source": [
    "## UNIVARIATE ANALYSIS"
   ]
  },
  {
   "cell_type": "code",
   "execution_count": 17,
   "id": "893a8844",
   "metadata": {},
   "outputs": [],
   "source": [
    "#cat_col = data.select_dtypes(include=['object']).columns.tolist()\n",
    "data1=data[['sex', 'smoker', 'region']]"
   ]
  },
  {
   "cell_type": "code",
   "execution_count": 18,
   "id": "fd8db8ba",
   "metadata": {},
   "outputs": [
    {
     "data": {
      "text/html": [
       "<div>\n",
       "<style scoped>\n",
       "    .dataframe tbody tr th:only-of-type {\n",
       "        vertical-align: middle;\n",
       "    }\n",
       "\n",
       "    .dataframe tbody tr th {\n",
       "        vertical-align: top;\n",
       "    }\n",
       "\n",
       "    .dataframe thead th {\n",
       "        text-align: right;\n",
       "    }\n",
       "</style>\n",
       "<table border=\"1\" class=\"dataframe\">\n",
       "  <thead>\n",
       "    <tr style=\"text-align: right;\">\n",
       "      <th></th>\n",
       "      <th>sex</th>\n",
       "      <th>smoker</th>\n",
       "      <th>region</th>\n",
       "    </tr>\n",
       "  </thead>\n",
       "  <tbody>\n",
       "    <tr>\n",
       "      <th>0</th>\n",
       "      <td>female</td>\n",
       "      <td>yes</td>\n",
       "      <td>southwest</td>\n",
       "    </tr>\n",
       "    <tr>\n",
       "      <th>1</th>\n",
       "      <td>male</td>\n",
       "      <td>no</td>\n",
       "      <td>southeast</td>\n",
       "    </tr>\n",
       "    <tr>\n",
       "      <th>2</th>\n",
       "      <td>male</td>\n",
       "      <td>no</td>\n",
       "      <td>southeast</td>\n",
       "    </tr>\n",
       "    <tr>\n",
       "      <th>3</th>\n",
       "      <td>male</td>\n",
       "      <td>no</td>\n",
       "      <td>northwest</td>\n",
       "    </tr>\n",
       "    <tr>\n",
       "      <th>4</th>\n",
       "      <td>male</td>\n",
       "      <td>no</td>\n",
       "      <td>northwest</td>\n",
       "    </tr>\n",
       "    <tr>\n",
       "      <th>...</th>\n",
       "      <td>...</td>\n",
       "      <td>...</td>\n",
       "      <td>...</td>\n",
       "    </tr>\n",
       "    <tr>\n",
       "      <th>1333</th>\n",
       "      <td>male</td>\n",
       "      <td>no</td>\n",
       "      <td>northwest</td>\n",
       "    </tr>\n",
       "    <tr>\n",
       "      <th>1334</th>\n",
       "      <td>female</td>\n",
       "      <td>no</td>\n",
       "      <td>northeast</td>\n",
       "    </tr>\n",
       "    <tr>\n",
       "      <th>1335</th>\n",
       "      <td>female</td>\n",
       "      <td>no</td>\n",
       "      <td>southeast</td>\n",
       "    </tr>\n",
       "    <tr>\n",
       "      <th>1336</th>\n",
       "      <td>female</td>\n",
       "      <td>no</td>\n",
       "      <td>southwest</td>\n",
       "    </tr>\n",
       "    <tr>\n",
       "      <th>1337</th>\n",
       "      <td>female</td>\n",
       "      <td>yes</td>\n",
       "      <td>northwest</td>\n",
       "    </tr>\n",
       "  </tbody>\n",
       "</table>\n",
       "<p>1338 rows × 3 columns</p>\n",
       "</div>"
      ],
      "text/plain": [
       "         sex smoker     region\n",
       "0     female    yes  southwest\n",
       "1       male     no  southeast\n",
       "2       male     no  southeast\n",
       "3       male     no  northwest\n",
       "4       male     no  northwest\n",
       "...      ...    ...        ...\n",
       "1333    male     no  northwest\n",
       "1334  female     no  northeast\n",
       "1335  female     no  southeast\n",
       "1336  female     no  southwest\n",
       "1337  female    yes  northwest\n",
       "\n",
       "[1338 rows x 3 columns]"
      ]
     },
     "execution_count": 18,
     "metadata": {},
     "output_type": "execute_result"
    }
   ],
   "source": [
    "data1"
   ]
  },
  {
   "cell_type": "code",
   "execution_count": 19,
   "id": "a1a44eab",
   "metadata": {},
   "outputs": [
    {
     "data": {
      "image/png": "[encoded data removed]",
      "text/plain": [
       "<Figure size 2000x1000 with 4 Axes>"
      ]
     },
     "metadata": {},
     "output_type": "display_data"
    }
   ],
   "source": [
    "features = ['sex', 'children', 'smoker', 'region']\n",
    " \n",
    "plt.subplots(figsize=(20, 10))\n",
    "for i, col in enumerate(features):\n",
    "    plt.subplot(2, 2, i + 1)\n",
    "    data.groupby(col).mean()['charges'].plot.bar()\n",
    "plt.show()"
   ]
  },
  {
   "cell_type": "markdown",
   "id": "e42bf25f",
   "metadata": {},
   "source": [
    "# Insights\n",
    "* There are almost equal number of male and female members in the given data set.\n",
    "* There are more smokers than non-smokers in the given dataset.\n",
    "* People are almost equally distributed from the all the given regions.\n"
   ]
  },
  {
   "cell_type": "markdown",
   "id": "251bc797",
   "metadata": {},
   "source": [
    "## Bivariate Analysis"
   ]
  },
  {
   "cell_type": "code",
   "execution_count": 20,
   "id": "d9eb9650",
   "metadata": {},
   "outputs": [],
   "source": [
    "df=data[['age','bmi','smoker']]"
   ]
  },
  {
   "cell_type": "code",
   "execution_count": 21,
   "id": "a4f8e025",
   "metadata": {},
   "outputs": [
    {
     "data": {
      "image/png": "[encoded data removed]",
      "text/plain": [
       "<Figure size 1000x500 with 3 Axes>"
      ]
     },
     "metadata": {},
     "output_type": "display_data"
    }
   ],
   "source": [
    "plt.figure(figsize=(10,5))\n",
    "plotnumber=1\n",
    "for columns in df.columns:\n",
    "    if(plotnumber<4):\n",
    "        plt.subplot(2,2,plotnumber)\n",
    "        sns.scatterplot(x=df[columns],y=data['charges'])\n",
    "        plt.xlabel(columns,fontsize=20)\n",
    "        plt.ylabel('charges',fontsize=20)\n",
    "        \n",
    "    plotnumber+=1\n",
    "plt.tight_layout()"
   ]
  },
  {
   "cell_type": "markdown",
   "id": "8719adb7",
   "metadata": {},
   "source": [
    "## Insights\n",
    "* as per the age v/s charges plot in the above scatter plot we can observe that as age increases the charges are slightly higher, but there are other features which are affecting the charges\n",
    "* Body mass index varies as the age of the person varies, nothing can be concluded from the above plot regarding bmi.\n",
    "* smokers have higher range of insurance cost as compared to non-smoker"
   ]
  },
  {
   "cell_type": "markdown",
   "id": "448ba4f0",
   "metadata": {},
   "source": [
    "## MULTIVARIATE ANALYSIS"
   ]
  },
  {
   "cell_type": "code",
   "execution_count": 22,
   "id": "ddfcdf5d",
   "metadata": {},
   "outputs": [
    {
     "data": {
      "text/plain": [
       "<seaborn.axisgrid.PairGrid at 0x284b1c09880>"
      ]
     },
     "execution_count": 22,
     "metadata": {},
     "output_type": "execute_result"
    },
    {
     "data": {
      "image/png": "[encoded data removed]",
      "text/plain": [
       "<Figure size 1000x1000 with 20 Axes>"
      ]
     },
     "metadata": {},
     "output_type": "display_data"
    }
   ],
   "source": [
    "sns.pairplot(data)"
   ]
  },
  {
   "cell_type": "markdown",
   "id": "e206f181",
   "metadata": {},
   "source": [
    "## DATA PREPROCESSING"
   ]
  },
  {
   "cell_type": "code",
   "execution_count": 23,
   "id": "1bc75776",
   "metadata": {},
   "outputs": [
    {
     "name": "stdout",
     "output_type": "stream",
     "text": [
      "<class 'pandas.core.frame.DataFrame'>\n",
      "RangeIndex: 1338 entries, 0 to 1337\n",
      "Data columns (total 7 columns):\n",
      " #   Column    Non-Null Count  Dtype  \n",
      "---  ------    --------------  -----  \n",
      " 0   age       1338 non-null   int64  \n",
      " 1   sex       1338 non-null   object \n",
      " 2   bmi       1338 non-null   float64\n",
      " 3   children  1338 non-null   int64  \n",
      " 4   smoker    1338 non-null   object \n",
      " 5   region    1338 non-null   object \n",
      " 6   charges   1338 non-null   float64\n",
      "dtypes: float64(2), int64(2), object(3)\n",
      "memory usage: 73.3+ KB\n"
     ]
    }
   ],
   "source": [
    "\n",
    "# Data information\n",
    "data.info()"
   ]
  },
  {
   "cell_type": "markdown",
   "id": "1d59fbd4",
   "metadata": {},
   "source": [
    "## Missing value detection"
   ]
  },
  {
   "cell_type": "code",
   "execution_count": 24,
   "id": "350cfa7f",
   "metadata": {},
   "outputs": [
    {
     "data": {
      "text/plain": [
       "age         0\n",
       "sex         0\n",
       "bmi         0\n",
       "children    0\n",
       "smoker      0\n",
       "region      0\n",
       "charges     0\n",
       "dtype: int64"
      ]
     },
     "execution_count": 24,
     "metadata": {},
     "output_type": "execute_result"
    }
   ],
   "source": [
    "data.isnull().sum()"
   ]
  },
  {
   "cell_type": "markdown",
   "id": "d91b633d",
   "metadata": {},
   "source": [
    "* It has no missing values. "
   ]
  },
  {
   "cell_type": "code",
   "execution_count": 25,
   "id": "f17662f6",
   "metadata": {},
   "outputs": [
    {
     "data": {
      "text/plain": [
       "1"
      ]
     },
     "execution_count": 25,
     "metadata": {},
     "output_type": "execute_result"
    }
   ],
   "source": [
    "#finding duplicate values\n",
    "data.duplicated().sum()"
   ]
  },
  {
   "cell_type": "code",
   "execution_count": 26,
   "id": "4c7b3a62",
   "metadata": {},
   "outputs": [],
   "source": [
    "data.drop_duplicates(inplace=True) # Dropping the duplicate value since there is only one"
   ]
  },
  {
   "cell_type": "code",
   "execution_count": 27,
   "id": "1ae6d00f",
   "metadata": {},
   "outputs": [
    {
     "data": {
      "text/plain": [
       "0"
      ]
     },
     "execution_count": 27,
     "metadata": {},
     "output_type": "execute_result"
    }
   ],
   "source": [
    "data.duplicated().sum()"
   ]
  },
  {
   "cell_type": "markdown",
   "id": "eb94547d",
   "metadata": {},
   "source": [
    "## Outlier handling"
   ]
  },
  {
   "cell_type": "code",
   "execution_count": 28,
   "id": "18f8d9d6",
   "metadata": {},
   "outputs": [
    {
     "data": {
      "text/html": [
       "<div>\n",
       "<style scoped>\n",
       "    .dataframe tbody tr th:only-of-type {\n",
       "        vertical-align: middle;\n",
       "    }\n",
       "\n",
       "    .dataframe tbody tr th {\n",
       "        vertical-align: top;\n",
       "    }\n",
       "\n",
       "    .dataframe thead th {\n",
       "        text-align: right;\n",
       "    }\n",
       "</style>\n",
       "<table border=\"1\" class=\"dataframe\">\n",
       "  <thead>\n",
       "    <tr style=\"text-align: right;\">\n",
       "      <th></th>\n",
       "      <th>age</th>\n",
       "      <th>sex</th>\n",
       "      <th>bmi</th>\n",
       "      <th>children</th>\n",
       "      <th>smoker</th>\n",
       "      <th>region</th>\n",
       "      <th>charges</th>\n",
       "    </tr>\n",
       "  </thead>\n",
       "  <tbody>\n",
       "    <tr>\n",
       "      <th>0</th>\n",
       "      <td>19</td>\n",
       "      <td>female</td>\n",
       "      <td>27.900</td>\n",
       "      <td>0</td>\n",
       "      <td>yes</td>\n",
       "      <td>southwest</td>\n",
       "      <td>16884.92400</td>\n",
       "    </tr>\n",
       "    <tr>\n",
       "      <th>1</th>\n",
       "      <td>18</td>\n",
       "      <td>male</td>\n",
       "      <td>33.770</td>\n",
       "      <td>1</td>\n",
       "      <td>no</td>\n",
       "      <td>southeast</td>\n",
       "      <td>1725.55230</td>\n",
       "    </tr>\n",
       "    <tr>\n",
       "      <th>2</th>\n",
       "      <td>28</td>\n",
       "      <td>male</td>\n",
       "      <td>33.000</td>\n",
       "      <td>3</td>\n",
       "      <td>no</td>\n",
       "      <td>southeast</td>\n",
       "      <td>4449.46200</td>\n",
       "    </tr>\n",
       "    <tr>\n",
       "      <th>3</th>\n",
       "      <td>33</td>\n",
       "      <td>male</td>\n",
       "      <td>22.705</td>\n",
       "      <td>0</td>\n",
       "      <td>no</td>\n",
       "      <td>northwest</td>\n",
       "      <td>21984.47061</td>\n",
       "    </tr>\n",
       "    <tr>\n",
       "      <th>4</th>\n",
       "      <td>32</td>\n",
       "      <td>male</td>\n",
       "      <td>28.880</td>\n",
       "      <td>0</td>\n",
       "      <td>no</td>\n",
       "      <td>northwest</td>\n",
       "      <td>3866.85520</td>\n",
       "    </tr>\n",
       "  </tbody>\n",
       "</table>\n",
       "</div>"
      ],
      "text/plain": [
       "   age     sex     bmi  children smoker     region      charges\n",
       "0   19  female  27.900         0    yes  southwest  16884.92400\n",
       "1   18    male  33.770         1     no  southeast   1725.55230\n",
       "2   28    male  33.000         3     no  southeast   4449.46200\n",
       "3   33    male  22.705         0     no  northwest  21984.47061\n",
       "4   32    male  28.880         0     no  northwest   3866.85520"
      ]
     },
     "execution_count": 28,
     "metadata": {},
     "output_type": "execute_result"
    }
   ],
   "source": [
    "data.head()"
   ]
  },
  {
   "cell_type": "code",
   "execution_count": 29,
   "id": "bbfb2207",
   "metadata": {},
   "outputs": [
    {
     "data": {
      "image/png": "[encoded data removed]",
      "text/plain": [
       "<Figure size 1000x800 with 3 Axes>"
      ]
     },
     "metadata": {},
     "output_type": "display_data"
    }
   ],
   "source": [
    "box=data[['age', 'bmi','children']]\n",
    "plt.figure(figsize=(10,8), facecolor='white')#to sey canvas size\n",
    "plotnumber = 1#counter\n",
    "\n",
    "for column in box:#acc\n",
    "    if plotnumber<=3 : # as there are 3 numerical columns in the data\n",
    "        ax = plt.subplot(2,2,plotnumber)#plotting 3 graphs\n",
    "        sns.boxplot(x=box[column])#boxplot to check for outlier\n",
    "        plt.xlabel(column,fontsize=15)#assign name to x-axis and set font-15\n",
    "    plotnumber+=1#counter increment "
   ]
  },
  {
   "cell_type": "markdown",
   "id": "58a59174",
   "metadata": {},
   "source": [
    "### Bmi column  has outliers let us check the distribution of the data"
   ]
  },
  {
   "cell_type": "code",
   "execution_count": 30,
   "id": "054ee068",
   "metadata": {},
   "outputs": [
    {
     "data": {
      "image/png": "[encoded data removed]",
      "text/plain": [
       "<Figure size 2000x2000 with 3 Axes>"
      ]
     },
     "metadata": {},
     "output_type": "display_data"
    }
   ],
   "source": [
    "#checking the distribution of the data\n",
    "plt.figure(figsize=(20,20),facecolor='white')\n",
    "plotnumber=1\n",
    "\n",
    "for i in box:\n",
    "    if plotnumber<=20:\n",
    "        ax=plt.subplot(7,3,plotnumber)\n",
    "        sns.histplot(x=box[i],kde=True)\n",
    "        plt.xlabel(i,fontsize=20)\n",
    "        plt.ylabel(\"count\",fontsize=20)\n",
    "        plotnumber+=1\n",
    "plt.tight_layout()"
   ]
  },
  {
   "cell_type": "code",
   "execution_count": 31,
   "id": "2127590d",
   "metadata": {},
   "outputs": [
    {
     "data": {
      "text/plain": [
       "8.410000000000004"
      ]
     },
     "execution_count": 31,
     "metadata": {},
     "output_type": "execute_result"
    }
   ],
   "source": [
    "#IQR\n",
    "from scipy import stats\n",
    "IQR=stats.iqr(data.bmi,interpolation='midpoint')\n",
    "IQR"
   ]
  },
  {
   "cell_type": "code",
   "execution_count": 32,
   "id": "4402d104",
   "metadata": {},
   "outputs": [
    {
     "data": {
      "text/plain": [
       "26.29"
      ]
     },
     "execution_count": 32,
     "metadata": {},
     "output_type": "execute_result"
    }
   ],
   "source": [
    "Q_1=data.bmi.quantile(0.25)\n",
    "Q_1"
   ]
  },
  {
   "cell_type": "code",
   "execution_count": 33,
   "id": "399f04fd",
   "metadata": {},
   "outputs": [
    {
     "data": {
      "text/plain": [
       "34.7"
      ]
     },
     "execution_count": 33,
     "metadata": {},
     "output_type": "execute_result"
    }
   ],
   "source": [
    "Q_3=data.bmi.quantile(0.75)\n",
    "Q_3"
   ]
  },
  {
   "cell_type": "code",
   "execution_count": 34,
   "id": "617b19c9",
   "metadata": {},
   "outputs": [
    {
     "data": {
      "text/plain": [
       "13.674999999999994"
      ]
     },
     "execution_count": 34,
     "metadata": {},
     "output_type": "execute_result"
    }
   ],
   "source": [
    "lower_limit=Q_1-1.5*IQR\n",
    "lower_limit"
   ]
  },
  {
   "cell_type": "code",
   "execution_count": 35,
   "id": "affce701",
   "metadata": {},
   "outputs": [
    {
     "data": {
      "text/plain": [
       "47.31500000000001"
      ]
     },
     "execution_count": 35,
     "metadata": {},
     "output_type": "execute_result"
    }
   ],
   "source": [
    "upper_limit=Q_3+1.5*IQR\n",
    "upper_limit"
   ]
  },
  {
   "cell_type": "code",
   "execution_count": 36,
   "id": "ca2bc555",
   "metadata": {},
   "outputs": [],
   "source": [
    "data.loc[data['bmi']>47,'bmi']=data.bmi.median()"
   ]
  },
  {
   "cell_type": "code",
   "execution_count": 37,
   "id": "896e17b8",
   "metadata": {},
   "outputs": [
    {
     "data": {
      "image/png": "[encoded data removed]",
      "text/plain": [
       "<Figure size 640x480 with 1 Axes>"
      ]
     },
     "metadata": {},
     "output_type": "display_data"
    }
   ],
   "source": [
    "sns.boxplot(x='bmi',data=data)\n",
    "plt.show()"
   ]
  },
  {
   "cell_type": "markdown",
   "id": "dea2b3b0",
   "metadata": {},
   "source": [
    "## Handling Categorical Data"
   ]
  },
  {
   "cell_type": "code",
   "execution_count": 38,
   "id": "0acf6cdc",
   "metadata": {},
   "outputs": [],
   "source": [
    "# The algorithm can only understand numbers hence conversion of categorical\n",
    "# data is important."
   ]
  },
  {
   "cell_type": "code",
   "execution_count": 39,
   "id": "f402123f",
   "metadata": {},
   "outputs": [],
   "source": [
    "data['sex']=data['sex'].map({'male':0,'female':1})\n",
    "data['smoker']=data['smoker'].map({'yes':1,'no':0})\n",
    "data['region']=data['region'].map({'northwest':0, 'northeast':1,'southeast':2,'southwest':3})"
   ]
  },
  {
   "cell_type": "code",
   "execution_count": 40,
   "id": "f069f542",
   "metadata": {},
   "outputs": [
    {
     "data": {
      "text/html": [
       "<div>\n",
       "<style scoped>\n",
       "    .dataframe tbody tr th:only-of-type {\n",
       "        vertical-align: middle;\n",
       "    }\n",
       "\n",
       "    .dataframe tbody tr th {\n",
       "        vertical-align: top;\n",
       "    }\n",
       "\n",
       "    .dataframe thead th {\n",
       "        text-align: right;\n",
       "    }\n",
       "</style>\n",
       "<table border=\"1\" class=\"dataframe\">\n",
       "  <thead>\n",
       "    <tr style=\"text-align: right;\">\n",
       "      <th></th>\n",
       "      <th>age</th>\n",
       "      <th>sex</th>\n",
       "      <th>bmi</th>\n",
       "      <th>children</th>\n",
       "      <th>smoker</th>\n",
       "      <th>region</th>\n",
       "      <th>charges</th>\n",
       "    </tr>\n",
       "  </thead>\n",
       "  <tbody>\n",
       "    <tr>\n",
       "      <th>0</th>\n",
       "      <td>19</td>\n",
       "      <td>1</td>\n",
       "      <td>27.900</td>\n",
       "      <td>0</td>\n",
       "      <td>1</td>\n",
       "      <td>3</td>\n",
       "      <td>16884.92400</td>\n",
       "    </tr>\n",
       "    <tr>\n",
       "      <th>1</th>\n",
       "      <td>18</td>\n",
       "      <td>0</td>\n",
       "      <td>33.770</td>\n",
       "      <td>1</td>\n",
       "      <td>0</td>\n",
       "      <td>2</td>\n",
       "      <td>1725.55230</td>\n",
       "    </tr>\n",
       "    <tr>\n",
       "      <th>2</th>\n",
       "      <td>28</td>\n",
       "      <td>0</td>\n",
       "      <td>33.000</td>\n",
       "      <td>3</td>\n",
       "      <td>0</td>\n",
       "      <td>2</td>\n",
       "      <td>4449.46200</td>\n",
       "    </tr>\n",
       "    <tr>\n",
       "      <th>3</th>\n",
       "      <td>33</td>\n",
       "      <td>0</td>\n",
       "      <td>22.705</td>\n",
       "      <td>0</td>\n",
       "      <td>0</td>\n",
       "      <td>0</td>\n",
       "      <td>21984.47061</td>\n",
       "    </tr>\n",
       "    <tr>\n",
       "      <th>4</th>\n",
       "      <td>32</td>\n",
       "      <td>0</td>\n",
       "      <td>28.880</td>\n",
       "      <td>0</td>\n",
       "      <td>0</td>\n",
       "      <td>0</td>\n",
       "      <td>3866.85520</td>\n",
       "    </tr>\n",
       "  </tbody>\n",
       "</table>\n",
       "</div>"
      ],
      "text/plain": [
       "   age  sex     bmi  children  smoker  region      charges\n",
       "0   19    1  27.900         0       1       3  16884.92400\n",
       "1   18    0  33.770         1       0       2   1725.55230\n",
       "2   28    0  33.000         3       0       2   4449.46200\n",
       "3   33    0  22.705         0       0       0  21984.47061\n",
       "4   32    0  28.880         0       0       0   3866.85520"
      ]
     },
     "execution_count": 40,
     "metadata": {},
     "output_type": "execute_result"
    }
   ],
   "source": [
    "data.head()"
   ]
  },
  {
   "cell_type": "markdown",
   "id": "6fcb275e",
   "metadata": {},
   "source": [
    "## FEATURE SELECTION"
   ]
  },
  {
   "cell_type": "code",
   "execution_count": 41,
   "id": "891875cd",
   "metadata": {},
   "outputs": [
    {
     "data": {
      "image/png": "[encoded data removed]",
      "text/plain": [
       "<Figure size 1000x1000 with 2 Axes>"
      ]
     },
     "metadata": {},
     "output_type": "display_data"
    }
   ],
   "source": [
    "plt.figure(figsize=(10,10))\n",
    "sns.heatmap(data.drop('charges',axis=1).corr(), annot=True, square= True)\n",
    "plt.show()"
   ]
  },
  {
   "cell_type": "markdown",
   "id": "6fe8f4cf",
   "metadata": {},
   "source": [
    "## MODEL CREATION"
   ]
  },
  {
   "cell_type": "markdown",
   "id": "4f7cb6ab",
   "metadata": {},
   "source": [
    "### SPLITTING DATA INTO TRAIN AND TEST"
   ]
  },
  {
   "cell_type": "code",
   "execution_count": 42,
   "id": "d0aa8433",
   "metadata": {},
   "outputs": [],
   "source": [
    "# Prepare the data\n",
    "x = data.drop(['charges'], axis=1)\n",
    "y = data['charges']"
   ]
  },
  {
   "cell_type": "code",
   "execution_count": 43,
   "id": "91cb9fc2",
   "metadata": {},
   "outputs": [],
   "source": [
    "# Split the data into training and testing sets\n",
    "from sklearn.model_selection import train_test_split\n",
    "x_train, x_test, y_train, y_test = train_test_split(x, y, test_size=0.25, random_state=42)"
   ]
  },
  {
   "cell_type": "markdown",
   "id": "2c1c9ce8",
   "metadata": {},
   "source": [
    "### 1. MODELLING WITH LINEAR REGRESSION ALGORITHM"
   ]
  },
  {
   "cell_type": "code",
   "execution_count": 44,
   "id": "623d78da",
   "metadata": {},
   "outputs": [],
   "source": [
    "#Creating model\n",
    "from sklearn.linear_model import LinearRegression\n",
    "LR=LinearRegression() # object creation\n",
    "LR.fit(x_train,y_train) # training of linear regression\n",
    "y_predict=LR.predict(x_test)"
   ]
  },
  {
   "cell_type": "code",
   "execution_count": 45,
   "id": "3eb4ecb0",
   "metadata": {},
   "outputs": [
    {
     "data": {
      "text/plain": [
       "(1002, 6)"
      ]
     },
     "execution_count": 45,
     "metadata": {},
     "output_type": "execute_result"
    }
   ],
   "source": [
    "x_train.shape"
   ]
  },
  {
   "cell_type": "code",
   "execution_count": 46,
   "id": "e1bddc83",
   "metadata": {},
   "outputs": [
    {
     "data": {
      "text/plain": [
       "LinearRegression()"
      ]
     },
     "execution_count": 46,
     "metadata": {},
     "output_type": "execute_result"
    }
   ],
   "source": [
    "Lin_reg = LinearRegression()\n",
    "Lin_reg.fit(x_train, y_train)"
   ]
  },
  {
   "cell_type": "code",
   "execution_count": 47,
   "id": "c8749484",
   "metadata": {},
   "outputs": [
    {
     "name": "stdout",
     "output_type": "stream",
     "text": [
      "-11503.271605045002\n",
      "[  244.78528285   -53.24698511   325.72040708   517.56510711\n",
      " 23078.15735547  -109.87542683]\n"
     ]
    }
   ],
   "source": [
    "print(Lin_reg.intercept_)\n",
    "print(Lin_reg.coef_)"
   ]
  },
  {
   "cell_type": "code",
   "execution_count": 48,
   "id": "fc75f53b",
   "metadata": {},
   "outputs": [
    {
     "data": {
      "text/plain": [
       "0.7298393812165599"
      ]
     },
     "execution_count": 48,
     "metadata": {},
     "output_type": "execute_result"
    }
   ],
   "source": [
    "## Model Evaluation\n",
    "##prediciton on training data\n",
    "y_train_predict=Lin_reg.predict(x_train)\n",
    "from sklearn.metrics import  r2_score, mean_squared_error, mean_absolute_error\n",
    "train_score=r2_score(y_train,y_train_predict)\n",
    "train_score"
   ]
  },
  {
   "cell_type": "code",
   "execution_count": 49,
   "id": "18266ac1",
   "metadata": {},
   "outputs": [
    {
     "data": {
      "text/plain": [
       "(1002, 6)"
      ]
     },
     "execution_count": 49,
     "metadata": {},
     "output_type": "execute_result"
    }
   ],
   "source": [
    "x_train.shape"
   ]
  },
  {
   "cell_type": "code",
   "execution_count": 50,
   "id": "944b4ed5",
   "metadata": {},
   "outputs": [
    {
     "data": {
      "text/plain": [
       "0.7178867924528302"
      ]
     },
     "execution_count": 50,
     "metadata": {},
     "output_type": "execute_result"
    }
   ],
   "source": [
    "## CHecking adjusted r2 score\n",
    "train_adjusted_r2 = 1-(1-0.72)*(1069-1)/(1069-8-1)\n",
    "train_adjusted_r2"
   ]
  },
  {
   "cell_type": "code",
   "execution_count": 51,
   "id": "1cc35d64",
   "metadata": {},
   "outputs": [
    {
     "data": {
      "text/plain": [
       "0.7891332263772559"
      ]
     },
     "execution_count": 51,
     "metadata": {},
     "output_type": "execute_result"
    }
   ],
   "source": [
    "## Model Evaluation\n",
    "##prediciton on test data\n",
    "y_test_predict=Lin_reg.predict(x_test)\n",
    "from sklearn.metrics import r2_score\n",
    "test_score=r2_score(y_test,y_test_predict)\n",
    "test_score"
   ]
  },
  {
   "cell_type": "code",
   "execution_count": 52,
   "id": "b09bab8e",
   "metadata": {},
   "outputs": [
    {
     "data": {
      "text/plain": [
       "(335, 6)"
      ]
     },
     "execution_count": 52,
     "metadata": {},
     "output_type": "execute_result"
    }
   ],
   "source": [
    "x_test.shape"
   ]
  },
  {
   "cell_type": "code",
   "execution_count": 53,
   "id": "6adaac70",
   "metadata": {},
   "outputs": [
    {
     "data": {
      "text/plain": [
       "0.7938223938223938"
      ]
     },
     "execution_count": 53,
     "metadata": {},
     "output_type": "execute_result"
    }
   ],
   "source": [
    "## Checking adjusted r2 score\n",
    "test_adjusted_r2 = 1-(1-0.80)*(268-1)/(268-8-1)\n",
    "test_adjusted_r2"
   ]
  },
  {
   "cell_type": "code",
   "execution_count": 54,
   "id": "537918c9",
   "metadata": {},
   "outputs": [
    {
     "name": "stdout",
     "output_type": "stream",
     "text": [
      "36460934.758487426\n",
      "6038.289058871514\n"
     ]
    }
   ],
   "source": [
    "import math\n",
    "print(mean_squared_error(y_test,y_test_predict))\n",
    "print(math.sqrt(mean_squared_error(y_test,y_test_predict))) # root mean squared error"
   ]
  },
  {
   "cell_type": "code",
   "execution_count": 55,
   "id": "7eecbbf4",
   "metadata": {},
   "outputs": [
    {
     "name": "stdout",
     "output_type": "stream",
     "text": [
      "4112.211127790857\n"
     ]
    }
   ],
   "source": [
    "print(mean_absolute_error(y_test,y_test_predict))"
   ]
  },
  {
   "cell_type": "markdown",
   "id": "c0909a9d",
   "metadata": {},
   "source": [
    "**Assumptions of Linear Regression:**<br>\n",
    "    - Linearity: Linear relationship exist between dependent and independent variable. In case of non-linearity, use transformation such as logarthmic, exponential, square root etc <br>\n",
    "    - No multicollinearity: If there is multicollinearity its unclear which independent variable explains the dependent variable. <br>\n",
    "    - Errors are normally distributed. If not, then confidence interval may become too wide or narrow.\n",
    "\n",
    "**Pros:**<br>\n",
    "    - Simple method<br>\n",
    "    - Easy to use and understand<br>\n",
    "    \n",
    "**Cons**<br>\n",
    "    - Very sensitive to outliers : often leads to model with low accuracy<br>\n",
    "    - It performs well for linearly seperable datasets. So not recommended for most real world applications as it produces simplified results assuming linear relationship between the data."
   ]
  },
  {
   "cell_type": "markdown",
   "id": "6c4eac03",
   "metadata": {},
   "source": [
    "### 2. MODELLING WITH K-NEAREST NEIGHBOR"
   ]
  },
  {
   "cell_type": "code",
   "execution_count": 56,
   "id": "d4e06b47",
   "metadata": {},
   "outputs": [],
   "source": [
    "x=data.drop('charges', axis = 1) ## X variable contains all inputs\n",
    "y=data.charges ## y is output"
   ]
  },
  {
   "cell_type": "code",
   "execution_count": 57,
   "id": "3a1fbe9a",
   "metadata": {},
   "outputs": [
    {
     "data": {
      "text/html": [
       "<div>\n",
       "<style scoped>\n",
       "    .dataframe tbody tr th:only-of-type {\n",
       "        vertical-align: middle;\n",
       "    }\n",
       "\n",
       "    .dataframe tbody tr th {\n",
       "        vertical-align: top;\n",
       "    }\n",
       "\n",
       "    .dataframe thead th {\n",
       "        text-align: right;\n",
       "    }\n",
       "</style>\n",
       "<table border=\"1\" class=\"dataframe\">\n",
       "  <thead>\n",
       "    <tr style=\"text-align: right;\">\n",
       "      <th></th>\n",
       "      <th>age</th>\n",
       "      <th>sex</th>\n",
       "      <th>bmi</th>\n",
       "      <th>children</th>\n",
       "      <th>smoker</th>\n",
       "      <th>region</th>\n",
       "    </tr>\n",
       "  </thead>\n",
       "  <tbody>\n",
       "    <tr>\n",
       "      <th>0</th>\n",
       "      <td>19</td>\n",
       "      <td>1</td>\n",
       "      <td>27.900</td>\n",
       "      <td>0</td>\n",
       "      <td>1</td>\n",
       "      <td>3</td>\n",
       "    </tr>\n",
       "    <tr>\n",
       "      <th>1</th>\n",
       "      <td>18</td>\n",
       "      <td>0</td>\n",
       "      <td>33.770</td>\n",
       "      <td>1</td>\n",
       "      <td>0</td>\n",
       "      <td>2</td>\n",
       "    </tr>\n",
       "    <tr>\n",
       "      <th>2</th>\n",
       "      <td>28</td>\n",
       "      <td>0</td>\n",
       "      <td>33.000</td>\n",
       "      <td>3</td>\n",
       "      <td>0</td>\n",
       "      <td>2</td>\n",
       "    </tr>\n",
       "    <tr>\n",
       "      <th>3</th>\n",
       "      <td>33</td>\n",
       "      <td>0</td>\n",
       "      <td>22.705</td>\n",
       "      <td>0</td>\n",
       "      <td>0</td>\n",
       "      <td>0</td>\n",
       "    </tr>\n",
       "    <tr>\n",
       "      <th>4</th>\n",
       "      <td>32</td>\n",
       "      <td>0</td>\n",
       "      <td>28.880</td>\n",
       "      <td>0</td>\n",
       "      <td>0</td>\n",
       "      <td>0</td>\n",
       "    </tr>\n",
       "    <tr>\n",
       "      <th>...</th>\n",
       "      <td>...</td>\n",
       "      <td>...</td>\n",
       "      <td>...</td>\n",
       "      <td>...</td>\n",
       "      <td>...</td>\n",
       "      <td>...</td>\n",
       "    </tr>\n",
       "    <tr>\n",
       "      <th>1333</th>\n",
       "      <td>50</td>\n",
       "      <td>0</td>\n",
       "      <td>30.970</td>\n",
       "      <td>3</td>\n",
       "      <td>0</td>\n",
       "      <td>0</td>\n",
       "    </tr>\n",
       "    <tr>\n",
       "      <th>1334</th>\n",
       "      <td>18</td>\n",
       "      <td>1</td>\n",
       "      <td>31.920</td>\n",
       "      <td>0</td>\n",
       "      <td>0</td>\n",
       "      <td>1</td>\n",
       "    </tr>\n",
       "    <tr>\n",
       "      <th>1335</th>\n",
       "      <td>18</td>\n",
       "      <td>1</td>\n",
       "      <td>36.850</td>\n",
       "      <td>0</td>\n",
       "      <td>0</td>\n",
       "      <td>2</td>\n",
       "    </tr>\n",
       "    <tr>\n",
       "      <th>1336</th>\n",
       "      <td>21</td>\n",
       "      <td>1</td>\n",
       "      <td>25.800</td>\n",
       "      <td>0</td>\n",
       "      <td>0</td>\n",
       "      <td>3</td>\n",
       "    </tr>\n",
       "    <tr>\n",
       "      <th>1337</th>\n",
       "      <td>61</td>\n",
       "      <td>1</td>\n",
       "      <td>29.070</td>\n",
       "      <td>0</td>\n",
       "      <td>1</td>\n",
       "      <td>0</td>\n",
       "    </tr>\n",
       "  </tbody>\n",
       "</table>\n",
       "<p>1337 rows × 6 columns</p>\n",
       "</div>"
      ],
      "text/plain": [
       "      age  sex     bmi  children  smoker  region\n",
       "0      19    1  27.900         0       1       3\n",
       "1      18    0  33.770         1       0       2\n",
       "2      28    0  33.000         3       0       2\n",
       "3      33    0  22.705         0       0       0\n",
       "4      32    0  28.880         0       0       0\n",
       "...   ...  ...     ...       ...     ...     ...\n",
       "1333   50    0  30.970         3       0       0\n",
       "1334   18    1  31.920         0       0       1\n",
       "1335   18    1  36.850         0       0       2\n",
       "1336   21    1  25.800         0       0       3\n",
       "1337   61    1  29.070         0       1       0\n",
       "\n",
       "[1337 rows x 6 columns]"
      ]
     },
     "execution_count": 57,
     "metadata": {},
     "output_type": "execute_result"
    }
   ],
   "source": [
    "x"
   ]
  },
  {
   "cell_type": "code",
   "execution_count": 58,
   "id": "cdb0b905",
   "metadata": {},
   "outputs": [
    {
     "data": {
      "text/plain": [
       "0       16884.92400\n",
       "1        1725.55230\n",
       "2        4449.46200\n",
       "3       21984.47061\n",
       "4        3866.85520\n",
       "           ...     \n",
       "1333    10600.54830\n",
       "1334     2205.98080\n",
       "1335     1629.83350\n",
       "1336     2007.94500\n",
       "1337    29141.36030\n",
       "Name: charges, Length: 1337, dtype: float64"
      ]
     },
     "execution_count": 58,
     "metadata": {},
     "output_type": "execute_result"
    }
   ],
   "source": [
    "y"
   ]
  },
  {
   "cell_type": "code",
   "execution_count": 59,
   "id": "b939a87f",
   "metadata": {},
   "outputs": [],
   "source": [
    "#Traning and testing data creation\n",
    "from sklearn.model_selection import train_test_split\n",
    "x_train,x_test,y_train,y_test=train_test_split(x,y,test_size=0.25,random_state=4)"
   ]
  },
  {
   "cell_type": "code",
   "execution_count": 60,
   "id": "da0fa508",
   "metadata": {},
   "outputs": [
    {
     "data": {
      "text/html": [
       "<div>\n",
       "<style scoped>\n",
       "    .dataframe tbody tr th:only-of-type {\n",
       "        vertical-align: middle;\n",
       "    }\n",
       "\n",
       "    .dataframe tbody tr th {\n",
       "        vertical-align: top;\n",
       "    }\n",
       "\n",
       "    .dataframe thead th {\n",
       "        text-align: right;\n",
       "    }\n",
       "</style>\n",
       "<table border=\"1\" class=\"dataframe\">\n",
       "  <thead>\n",
       "    <tr style=\"text-align: right;\">\n",
       "      <th></th>\n",
       "      <th>age</th>\n",
       "      <th>sex</th>\n",
       "      <th>bmi</th>\n",
       "      <th>children</th>\n",
       "      <th>smoker</th>\n",
       "      <th>region</th>\n",
       "    </tr>\n",
       "  </thead>\n",
       "  <tbody>\n",
       "    <tr>\n",
       "      <th>315</th>\n",
       "      <td>52</td>\n",
       "      <td>0</td>\n",
       "      <td>33.250</td>\n",
       "      <td>0</td>\n",
       "      <td>0</td>\n",
       "      <td>1</td>\n",
       "    </tr>\n",
       "    <tr>\n",
       "      <th>597</th>\n",
       "      <td>34</td>\n",
       "      <td>1</td>\n",
       "      <td>33.250</td>\n",
       "      <td>1</td>\n",
       "      <td>0</td>\n",
       "      <td>1</td>\n",
       "    </tr>\n",
       "    <tr>\n",
       "      <th>612</th>\n",
       "      <td>18</td>\n",
       "      <td>1</td>\n",
       "      <td>33.155</td>\n",
       "      <td>0</td>\n",
       "      <td>0</td>\n",
       "      <td>1</td>\n",
       "    </tr>\n",
       "    <tr>\n",
       "      <th>462</th>\n",
       "      <td>62</td>\n",
       "      <td>1</td>\n",
       "      <td>38.095</td>\n",
       "      <td>2</td>\n",
       "      <td>0</td>\n",
       "      <td>1</td>\n",
       "    </tr>\n",
       "    <tr>\n",
       "      <th>399</th>\n",
       "      <td>18</td>\n",
       "      <td>1</td>\n",
       "      <td>38.170</td>\n",
       "      <td>0</td>\n",
       "      <td>0</td>\n",
       "      <td>2</td>\n",
       "    </tr>\n",
       "    <tr>\n",
       "      <th>...</th>\n",
       "      <td>...</td>\n",
       "      <td>...</td>\n",
       "      <td>...</td>\n",
       "      <td>...</td>\n",
       "      <td>...</td>\n",
       "      <td>...</td>\n",
       "    </tr>\n",
       "    <tr>\n",
       "      <th>360</th>\n",
       "      <td>48</td>\n",
       "      <td>1</td>\n",
       "      <td>32.300</td>\n",
       "      <td>2</td>\n",
       "      <td>0</td>\n",
       "      <td>1</td>\n",
       "    </tr>\n",
       "    <tr>\n",
       "      <th>710</th>\n",
       "      <td>18</td>\n",
       "      <td>0</td>\n",
       "      <td>35.200</td>\n",
       "      <td>1</td>\n",
       "      <td>0</td>\n",
       "      <td>2</td>\n",
       "    </tr>\n",
       "    <tr>\n",
       "      <th>439</th>\n",
       "      <td>26</td>\n",
       "      <td>0</td>\n",
       "      <td>29.450</td>\n",
       "      <td>0</td>\n",
       "      <td>0</td>\n",
       "      <td>1</td>\n",
       "    </tr>\n",
       "    <tr>\n",
       "      <th>174</th>\n",
       "      <td>24</td>\n",
       "      <td>1</td>\n",
       "      <td>33.345</td>\n",
       "      <td>0</td>\n",
       "      <td>0</td>\n",
       "      <td>0</td>\n",
       "    </tr>\n",
       "    <tr>\n",
       "      <th>1147</th>\n",
       "      <td>20</td>\n",
       "      <td>1</td>\n",
       "      <td>31.920</td>\n",
       "      <td>0</td>\n",
       "      <td>0</td>\n",
       "      <td>0</td>\n",
       "    </tr>\n",
       "  </tbody>\n",
       "</table>\n",
       "<p>1002 rows × 6 columns</p>\n",
       "</div>"
      ],
      "text/plain": [
       "      age  sex     bmi  children  smoker  region\n",
       "315    52    0  33.250         0       0       1\n",
       "597    34    1  33.250         1       0       1\n",
       "612    18    1  33.155         0       0       1\n",
       "462    62    1  38.095         2       0       1\n",
       "399    18    1  38.170         0       0       2\n",
       "...   ...  ...     ...       ...     ...     ...\n",
       "360    48    1  32.300         2       0       1\n",
       "710    18    0  35.200         1       0       2\n",
       "439    26    0  29.450         0       0       1\n",
       "174    24    1  33.345         0       0       0\n",
       "1147   20    1  31.920         0       0       0\n",
       "\n",
       "[1002 rows x 6 columns]"
      ]
     },
     "execution_count": 60,
     "metadata": {},
     "output_type": "execute_result"
    }
   ],
   "source": [
    "x_train"
   ]
  },
  {
   "cell_type": "code",
   "execution_count": 61,
   "id": "be7396b8",
   "metadata": {},
   "outputs": [
    {
     "data": {
      "text/plain": [
       "315      9722.76950\n",
       "597      5594.84550\n",
       "612      2207.69745\n",
       "462     15230.32405\n",
       "399      1631.66830\n",
       "           ...     \n",
       "360     10043.24900\n",
       "710      1727.54000\n",
       "439      2897.32350\n",
       "174      2855.43755\n",
       "1147     2261.56880\n",
       "Name: charges, Length: 1002, dtype: float64"
      ]
     },
     "execution_count": 61,
     "metadata": {},
     "output_type": "execute_result"
    }
   ],
   "source": [
    "y_train"
   ]
  },
  {
   "cell_type": "code",
   "execution_count": 62,
   "id": "2fa03ef9",
   "metadata": {},
   "outputs": [
    {
     "data": {
      "text/plain": [
       "KNeighborsRegressor()"
      ]
     },
     "execution_count": 62,
     "metadata": {},
     "output_type": "execute_result"
    }
   ],
   "source": [
    "from sklearn.neighbors import KNeighborsRegressor\n",
    "KNN = KNeighborsRegressor(n_neighbors = 5)\n",
    "KNN.fit(x_train, y_train)"
   ]
  },
  {
   "cell_type": "code",
   "execution_count": 63,
   "id": "dc6d7bec",
   "metadata": {},
   "outputs": [],
   "source": [
    "y_pred = KNN.predict(x_test)"
   ]
  },
  {
   "cell_type": "code",
   "execution_count": 64,
   "id": "0a1250f8",
   "metadata": {},
   "outputs": [
    {
     "data": {
      "text/plain": [
       "array([ 9263.45038 , 13462.224022, 12265.443178, 10147.220608,\n",
       "       23376.004652,  1514.0138  , 10818.00093 ,  6696.45434 ,\n",
       "       14848.80101 ,  4787.4624  , 12083.04432 , 13741.17557 ,\n",
       "        3049.74899 , 11865.46823 , 21419.12463 , 23564.952352,\n",
       "       12152.62928 , 11144.02639 , 23385.70584 ,  1576.45654 ,\n",
       "        3323.72171 , 16268.425026, 12420.68136 ,  9263.45038 ,\n",
       "        8137.07405 , 15599.56978 , 17239.72448 ,  6473.2315  ,\n",
       "       12369.29568 , 16988.085862, 11709.670488,  7568.34216 ,\n",
       "       16256.574734,  5799.330004, 14174.92258 ,  4850.3135  ,\n",
       "       27411.59258 , 17614.83757 ,  7977.72498 ,  6594.13848 ,\n",
       "       11455.09153 , 16672.56698 ,  6775.748194, 14435.90733 ,\n",
       "       16754.437992, 25470.008418, 16317.394578,  4001.82128 ,\n",
       "        9153.73852 , 15123.005192, 11011.06688 ,  6855.03167 ,\n",
       "        8919.303438,  4591.51226 ,  4429.30354 , 25625.261698,\n",
       "       20137.473872,  1664.81196 ,  1433.24902 , 12495.783066,\n",
       "       21199.63318 ,  6862.76128 , 20580.560666, 16526.617136,\n",
       "       20009.06945 ,  9719.534714,  9955.73484 ,  5067.49263 ,\n",
       "       21498.378462, 20496.9722  , 13001.795318,  9615.86298 ,\n",
       "        7158.17062 ,  5381.61841 , 12283.03963 , 16945.245528,\n",
       "        4720.63445 , 12238.2466  , 25097.48793 , 10302.8205  ,\n",
       "       18715.208766, 10147.220608,  6397.579074,  9060.315316,\n",
       "        8385.85138 ,  5528.08345 ,  7672.7824  , 19764.815674,\n",
       "       15405.90918 , 10862.527912, 11018.317302, 33795.84951 ,\n",
       "        5218.403226,  9242.104648, 16562.192786,  9296.18467 ,\n",
       "        9073.03312 , 19624.137754, 10624.51529 , 24105.046216,\n",
       "        2812.1782  , 11400.71534 , 18880.40468 , 16268.1477  ,\n",
       "        2251.28542 , 13416.196444, 14364.844424,  8274.493   ,\n",
       "       10532.26484 ,  5139.552   , 11148.33359 , 18355.00083 ,\n",
       "       10667.23944 ,  7336.49458 , 18073.887468,  7217.1378  ,\n",
       "        8423.74784 ,  5913.833034, 12099.437732, 12031.59018 ,\n",
       "       21120.616756,  1971.21683 , 13458.57814 , 18996.919988,\n",
       "        9597.77753 ,  5877.749688,  4310.61651 , 11566.080354,\n",
       "        6579.409714,  5452.84718 ,  5041.85764 , 17369.425912,\n",
       "       30232.75448 , 11929.31952 , 13126.683304,  8564.44154 ,\n",
       "        6947.10386 ,  8715.146   , 10785.701892,  9006.191578,\n",
       "       23835.743434,  6478.52036 , 12859.54323 , 11331.279136,\n",
       "       24204.005402, 12661.01822 ,  5041.85764 ,  4738.60601 ,\n",
       "        8456.0428  ,  7859.1848  , 13035.83461 ,  5003.780792,\n",
       "        4658.57401 ,  3269.69745 , 11391.9756  , 11829.14954 ,\n",
       "       11819.78443 , 10866.782486, 14254.614452, 11256.46251 ,\n",
       "        4117.52023 , 13670.035136,  6973.44409 ,  1574.31284 ,\n",
       "        8072.74605 , 10866.782486, 16826.130532, 13370.260466,\n",
       "       16859.314228, 13686.34384 ,  6667.57825 ,  7960.24309 ,\n",
       "       12787.9794  , 14923.144862, 13457.169752,  1412.38722 ,\n",
       "       22164.629946,  4162.01449 , 11372.87    , 13516.85267 ,\n",
       "       16744.61404 , 18928.90862 , 13694.58582 ,  9652.922604,\n",
       "       16694.29295 ,  5079.84022 , 12442.263146,  9515.77913 ,\n",
       "       16200.373766,  3828.28575 , 13436.44451 ,  3899.665696,\n",
       "       24345.89755 , 16203.80879 , 14314.26183 ,  9060.50652 ,\n",
       "       14629.19974 , 16387.936366, 12718.78614 , 11981.50011 ,\n",
       "       17989.619678, 23376.004652, 17086.140776,  2387.84865 ,\n",
       "        3211.01604 , 12766.024322, 10219.300436, 23502.92222 ,\n",
       "       21283.212388,  6322.92953 , 10993.7898  ,  1651.48482 ,\n",
       "        9085.8135  , 21366.819766, 27594.74189 ,  6975.90214 ,\n",
       "       10502.4144  ,  2175.02477 , 19390.917396,  2030.8516  ,\n",
       "       13998.15217 ,  9798.656686, 12872.15298 , 12961.69282 ,\n",
       "       14210.719564,  7627.29346 , 10411.98342 , 15378.738882,\n",
       "        9538.67154 ,  9611.69216 , 13719.91098 ,  4566.65863 ,\n",
       "       16424.61894 ,  3513.87324 ,  4384.93248 ,  5857.600314,\n",
       "       13281.66583 ,  9226.05299 , 10837.72898 , 32422.712958,\n",
       "       21968.980942,  7091.390954, 13380.99656 , 16753.91759 ,\n",
       "        9773.19622 , 15979.408268,  9558.27204 ,  4720.63445 ,\n",
       "       14386.06124 , 10710.477126, 12155.79149 , 18338.168036,\n",
       "       11633.81094 , 18910.393988, 19622.04555 ,  8406.900726,\n",
       "       16145.428582, 13061.62048 , 13058.25627 ,  7797.088454,\n",
       "       11361.94719 , 11507.94719 , 23463.51687 ,  9153.73852 ,\n",
       "       13741.17557 , 14369.94528 , 16030.81623 , 20644.56579 ,\n",
       "        9174.59666 , 13254.721394, 14629.19974 ,  9780.449088,\n",
       "        8127.790706,  9185.35063 ,  4998.28622 ,  4999.88952 ,\n",
       "       12204.07758 , 18445.309462, 22356.7513  , 11463.28532 ,\n",
       "        6704.61584 , 11084.75556 , 14807.408288, 16442.00147 ,\n",
       "        8586.03806 , 32251.957618, 22675.596288, 15193.69374 ,\n",
       "       13483.51162 , 15569.064604, 14206.1567  , 20165.595734,\n",
       "       12194.01494 ,  1678.42779 ,  4378.60454 , 18018.35632 ,\n",
       "       10336.46548 ,  6158.339922, 11144.02639 , 18803.337098,\n",
       "       15989.33565 ,  5523.94786 , 30617.05828 ,  9542.752976,\n",
       "        8450.90896 , 12801.8307  ,  9538.69508 , 12088.933988,\n",
       "       11301.82379 , 12740.32956 , 25291.508778, 25311.016054,\n",
       "       15185.268638, 11365.395   ,  9190.48778 , 12722.07778 ,\n",
       "       10231.264756, 15522.42554 , 10732.129   , 11482.06401 ,\n",
       "       18564.302994, 10019.14407 , 12034.234918,  5254.24727 ,\n",
       "       30252.510626,  7454.763632,  8036.24349 , 14018.51534 ,\n",
       "       20121.645558, 27443.437564,  5620.770114, 12206.05628 ,\n",
       "       19877.173318, 13353.005272, 15747.656452])"
      ]
     },
     "execution_count": 64,
     "metadata": {},
     "output_type": "execute_result"
    }
   ],
   "source": [
    "y_pred"
   ]
  },
  {
   "cell_type": "code",
   "execution_count": 65,
   "id": "122d7904",
   "metadata": {},
   "outputs": [
    {
     "data": {
      "text/plain": [
       "335"
      ]
     },
     "execution_count": 65,
     "metadata": {},
     "output_type": "execute_result"
    }
   ],
   "source": [
    "(y_test != y_pred).sum()"
   ]
  },
  {
   "cell_type": "code",
   "execution_count": 66,
   "id": "3c28b11e",
   "metadata": {},
   "outputs": [
    {
     "data": {
      "text/plain": [
       "335"
      ]
     },
     "execution_count": 66,
     "metadata": {},
     "output_type": "execute_result"
    }
   ],
   "source": [
    "len(y_test)"
   ]
  },
  {
   "cell_type": "code",
   "execution_count": 67,
   "id": "e65f4132",
   "metadata": {},
   "outputs": [
    {
     "data": {
      "text/plain": [
       "[1.0, 1.0, 1.0, 1.0, 1.0, 1.0, 1.0, 1.0, 1.0, 1.0]"
      ]
     },
     "execution_count": 67,
     "metadata": {},
     "output_type": "execute_result"
    }
   ],
   "source": [
    "# create empty list to store error values\n",
    "error_rate=[]\n",
    "\n",
    "for i in range(1,11):\n",
    "    model=KNeighborsRegressor(n_neighbors=i)\n",
    "    model.fit(x_train,y_train)\n",
    "    y_pred=model.predict(x_test)\n",
    "    error_rate.append(np.mean(y_pred!=y_test))\n",
    "error_rate"
   ]
  },
  {
   "cell_type": "code",
   "execution_count": 68,
   "id": "6be5bd82",
   "metadata": {},
   "outputs": [
    {
     "data": {
      "image/png": "[encoded data removed]",
      "text/plain": [
       "<Figure size 800x500 with 1 Axes>"
      ]
     },
     "metadata": {},
     "output_type": "display_data"
    }
   ],
   "source": [
    "plt.figure(figsize=(8,5))\n",
    "plt.plot(range(1,11),error_rate,color=\"c\",linestyle=\"-\",marker='o', markerfacecolor = 'k',markersize=4)\n",
    "plt.title(\"Error rate vs K (no of nearest neighbors)\")\n",
    "plt.xlabel(\"k-value\")\n",
    "plt.ylabel(\"error_rate\")\n",
    "plt.show()"
   ]
  },
  {
   "cell_type": "code",
   "execution_count": 69,
   "id": "8d9fcda3",
   "metadata": {},
   "outputs": [
    {
     "data": {
      "text/plain": [
       "KNeighborsRegressor()"
      ]
     },
     "execution_count": 69,
     "metadata": {},
     "output_type": "execute_result"
    }
   ],
   "source": [
    "from sklearn.neighbors import KNeighborsRegressor\n",
    "KNN = KNeighborsRegressor(n_neighbors = 5)\n",
    "KNN.fit(x_train, y_train)"
   ]
  },
  {
   "cell_type": "code",
   "execution_count": 70,
   "id": "fe6e89a7",
   "metadata": {},
   "outputs": [],
   "source": [
    "y_pred = KNN.predict(x_test)"
   ]
  },
  {
   "cell_type": "code",
   "execution_count": 71,
   "id": "d739c46b",
   "metadata": {},
   "outputs": [
    {
     "data": {
      "text/plain": [
       "array([ 9263.45038 , 13462.224022, 12265.443178, 10147.220608,\n",
       "       23376.004652,  1514.0138  , 10818.00093 ,  6696.45434 ,\n",
       "       14848.80101 ,  4787.4624  , 12083.04432 , 13741.17557 ,\n",
       "        3049.74899 , 11865.46823 , 21419.12463 , 23564.952352,\n",
       "       12152.62928 , 11144.02639 , 23385.70584 ,  1576.45654 ,\n",
       "        3323.72171 , 16268.425026, 12420.68136 ,  9263.45038 ,\n",
       "        8137.07405 , 15599.56978 , 17239.72448 ,  6473.2315  ,\n",
       "       12369.29568 , 16988.085862, 11709.670488,  7568.34216 ,\n",
       "       16256.574734,  5799.330004, 14174.92258 ,  4850.3135  ,\n",
       "       27411.59258 , 17614.83757 ,  7977.72498 ,  6594.13848 ,\n",
       "       11455.09153 , 16672.56698 ,  6775.748194, 14435.90733 ,\n",
       "       16754.437992, 25470.008418, 16317.394578,  4001.82128 ,\n",
       "        9153.73852 , 15123.005192, 11011.06688 ,  6855.03167 ,\n",
       "        8919.303438,  4591.51226 ,  4429.30354 , 25625.261698,\n",
       "       20137.473872,  1664.81196 ,  1433.24902 , 12495.783066,\n",
       "       21199.63318 ,  6862.76128 , 20580.560666, 16526.617136,\n",
       "       20009.06945 ,  9719.534714,  9955.73484 ,  5067.49263 ,\n",
       "       21498.378462, 20496.9722  , 13001.795318,  9615.86298 ,\n",
       "        7158.17062 ,  5381.61841 , 12283.03963 , 16945.245528,\n",
       "        4720.63445 , 12238.2466  , 25097.48793 , 10302.8205  ,\n",
       "       18715.208766, 10147.220608,  6397.579074,  9060.315316,\n",
       "        8385.85138 ,  5528.08345 ,  7672.7824  , 19764.815674,\n",
       "       15405.90918 , 10862.527912, 11018.317302, 33795.84951 ,\n",
       "        5218.403226,  9242.104648, 16562.192786,  9296.18467 ,\n",
       "        9073.03312 , 19624.137754, 10624.51529 , 24105.046216,\n",
       "        2812.1782  , 11400.71534 , 18880.40468 , 16268.1477  ,\n",
       "        2251.28542 , 13416.196444, 14364.844424,  8274.493   ,\n",
       "       10532.26484 ,  5139.552   , 11148.33359 , 18355.00083 ,\n",
       "       10667.23944 ,  7336.49458 , 18073.887468,  7217.1378  ,\n",
       "        8423.74784 ,  5913.833034, 12099.437732, 12031.59018 ,\n",
       "       21120.616756,  1971.21683 , 13458.57814 , 18996.919988,\n",
       "        9597.77753 ,  5877.749688,  4310.61651 , 11566.080354,\n",
       "        6579.409714,  5452.84718 ,  5041.85764 , 17369.425912,\n",
       "       30232.75448 , 11929.31952 , 13126.683304,  8564.44154 ,\n",
       "        6947.10386 ,  8715.146   , 10785.701892,  9006.191578,\n",
       "       23835.743434,  6478.52036 , 12859.54323 , 11331.279136,\n",
       "       24204.005402, 12661.01822 ,  5041.85764 ,  4738.60601 ,\n",
       "        8456.0428  ,  7859.1848  , 13035.83461 ,  5003.780792,\n",
       "        4658.57401 ,  3269.69745 , 11391.9756  , 11829.14954 ,\n",
       "       11819.78443 , 10866.782486, 14254.614452, 11256.46251 ,\n",
       "        4117.52023 , 13670.035136,  6973.44409 ,  1574.31284 ,\n",
       "        8072.74605 , 10866.782486, 16826.130532, 13370.260466,\n",
       "       16859.314228, 13686.34384 ,  6667.57825 ,  7960.24309 ,\n",
       "       12787.9794  , 14923.144862, 13457.169752,  1412.38722 ,\n",
       "       22164.629946,  4162.01449 , 11372.87    , 13516.85267 ,\n",
       "       16744.61404 , 18928.90862 , 13694.58582 ,  9652.922604,\n",
       "       16694.29295 ,  5079.84022 , 12442.263146,  9515.77913 ,\n",
       "       16200.373766,  3828.28575 , 13436.44451 ,  3899.665696,\n",
       "       24345.89755 , 16203.80879 , 14314.26183 ,  9060.50652 ,\n",
       "       14629.19974 , 16387.936366, 12718.78614 , 11981.50011 ,\n",
       "       17989.619678, 23376.004652, 17086.140776,  2387.84865 ,\n",
       "        3211.01604 , 12766.024322, 10219.300436, 23502.92222 ,\n",
       "       21283.212388,  6322.92953 , 10993.7898  ,  1651.48482 ,\n",
       "        9085.8135  , 21366.819766, 27594.74189 ,  6975.90214 ,\n",
       "       10502.4144  ,  2175.02477 , 19390.917396,  2030.8516  ,\n",
       "       13998.15217 ,  9798.656686, 12872.15298 , 12961.69282 ,\n",
       "       14210.719564,  7627.29346 , 10411.98342 , 15378.738882,\n",
       "        9538.67154 ,  9611.69216 , 13719.91098 ,  4566.65863 ,\n",
       "       16424.61894 ,  3513.87324 ,  4384.93248 ,  5857.600314,\n",
       "       13281.66583 ,  9226.05299 , 10837.72898 , 32422.712958,\n",
       "       21968.980942,  7091.390954, 13380.99656 , 16753.91759 ,\n",
       "        9773.19622 , 15979.408268,  9558.27204 ,  4720.63445 ,\n",
       "       14386.06124 , 10710.477126, 12155.79149 , 18338.168036,\n",
       "       11633.81094 , 18910.393988, 19622.04555 ,  8406.900726,\n",
       "       16145.428582, 13061.62048 , 13058.25627 ,  7797.088454,\n",
       "       11361.94719 , 11507.94719 , 23463.51687 ,  9153.73852 ,\n",
       "       13741.17557 , 14369.94528 , 16030.81623 , 20644.56579 ,\n",
       "        9174.59666 , 13254.721394, 14629.19974 ,  9780.449088,\n",
       "        8127.790706,  9185.35063 ,  4998.28622 ,  4999.88952 ,\n",
       "       12204.07758 , 18445.309462, 22356.7513  , 11463.28532 ,\n",
       "        6704.61584 , 11084.75556 , 14807.408288, 16442.00147 ,\n",
       "        8586.03806 , 32251.957618, 22675.596288, 15193.69374 ,\n",
       "       13483.51162 , 15569.064604, 14206.1567  , 20165.595734,\n",
       "       12194.01494 ,  1678.42779 ,  4378.60454 , 18018.35632 ,\n",
       "       10336.46548 ,  6158.339922, 11144.02639 , 18803.337098,\n",
       "       15989.33565 ,  5523.94786 , 30617.05828 ,  9542.752976,\n",
       "        8450.90896 , 12801.8307  ,  9538.69508 , 12088.933988,\n",
       "       11301.82379 , 12740.32956 , 25291.508778, 25311.016054,\n",
       "       15185.268638, 11365.395   ,  9190.48778 , 12722.07778 ,\n",
       "       10231.264756, 15522.42554 , 10732.129   , 11482.06401 ,\n",
       "       18564.302994, 10019.14407 , 12034.234918,  5254.24727 ,\n",
       "       30252.510626,  7454.763632,  8036.24349 , 14018.51534 ,\n",
       "       20121.645558, 27443.437564,  5620.770114, 12206.05628 ,\n",
       "       19877.173318, 13353.005272, 15747.656452])"
      ]
     },
     "execution_count": 71,
     "metadata": {},
     "output_type": "execute_result"
    }
   ],
   "source": [
    "y_pred"
   ]
  },
  {
   "cell_type": "code",
   "execution_count": 72,
   "id": "4576bd92",
   "metadata": {},
   "outputs": [],
   "source": [
    "from sklearn.metrics import mean_squared_error, mean_absolute_error, r2_score"
   ]
  },
  {
   "cell_type": "code",
   "execution_count": 73,
   "id": "92c1ddb6",
   "metadata": {},
   "outputs": [
    {
     "data": {
      "text/plain": [
       "131053860.86052638"
      ]
     },
     "execution_count": 73,
     "metadata": {},
     "output_type": "execute_result"
    }
   ],
   "source": [
    "mse = mean_squared_error(y_test, y_pred)\n",
    "mse"
   ]
  },
  {
   "cell_type": "code",
   "execution_count": 74,
   "id": "abab1aa8",
   "metadata": {},
   "outputs": [
    {
     "data": {
      "text/plain": [
       "7918.622810134328"
      ]
     },
     "execution_count": 74,
     "metadata": {},
     "output_type": "execute_result"
    }
   ],
   "source": [
    "mae = mean_absolute_error(y_test, y_pred)\n",
    "mae"
   ]
  },
  {
   "cell_type": "code",
   "execution_count": 75,
   "id": "6788b22f",
   "metadata": {},
   "outputs": [
    {
     "data": {
      "text/plain": [
       "11447.875823074182"
      ]
     },
     "execution_count": 75,
     "metadata": {},
     "output_type": "execute_result"
    }
   ],
   "source": [
    "import math \n",
    "rmse = math.sqrt(mse) #root mean squared error\n",
    "rmse"
   ]
  },
  {
   "cell_type": "code",
   "execution_count": 76,
   "id": "954ec18e",
   "metadata": {},
   "outputs": [
    {
     "data": {
      "text/plain": [
       "0.08919358290088097"
      ]
     },
     "execution_count": 76,
     "metadata": {},
     "output_type": "execute_result"
    }
   ],
   "source": [
    "r2 = r2_score(y_test, y_pred)\n",
    "r2"
   ]
  },
  {
   "cell_type": "code",
   "execution_count": 77,
   "id": "319535ad",
   "metadata": {},
   "outputs": [
    {
     "data": {
      "text/plain": [
       "(335, 6)"
      ]
     },
     "execution_count": 77,
     "metadata": {},
     "output_type": "execute_result"
    }
   ],
   "source": [
    "x_test.shape"
   ]
  },
  {
   "cell_type": "code",
   "execution_count": 78,
   "id": "c656a12a",
   "metadata": {},
   "outputs": [
    {
     "data": {
      "text/plain": [
       "0.07253248990516548"
      ]
     },
     "execution_count": 78,
     "metadata": {},
     "output_type": "execute_result"
    }
   ],
   "source": [
    "##calculation of adjusted r2 score\n",
    "adj_r2 = 1-(1-r2)*(335-1)/(335-6-1)\n",
    "adj_r2"
   ]
  },
  {
   "cell_type": "markdown",
   "id": "b184a698",
   "metadata": {},
   "source": [
    "### 3. MODELLING WITH  GRADIENT  AND XG BOOSTING"
   ]
  },
  {
   "cell_type": "code",
   "execution_count": 79,
   "id": "0d9c67ee",
   "metadata": {},
   "outputs": [],
   "source": [
    "x=data.drop('charges', axis = 1) ## X variable contains all inputs\n",
    "y=data.charges ## y is output"
   ]
  },
  {
   "cell_type": "code",
   "execution_count": 80,
   "id": "aceb8c5b",
   "metadata": {},
   "outputs": [
    {
     "data": {
      "text/html": [
       "<div>\n",
       "<style scoped>\n",
       "    .dataframe tbody tr th:only-of-type {\n",
       "        vertical-align: middle;\n",
       "    }\n",
       "\n",
       "    .dataframe tbody tr th {\n",
       "        vertical-align: top;\n",
       "    }\n",
       "\n",
       "    .dataframe thead th {\n",
       "        text-align: right;\n",
       "    }\n",
       "</style>\n",
       "<table border=\"1\" class=\"dataframe\">\n",
       "  <thead>\n",
       "    <tr style=\"text-align: right;\">\n",
       "      <th></th>\n",
       "      <th>age</th>\n",
       "      <th>sex</th>\n",
       "      <th>bmi</th>\n",
       "      <th>children</th>\n",
       "      <th>smoker</th>\n",
       "      <th>region</th>\n",
       "    </tr>\n",
       "  </thead>\n",
       "  <tbody>\n",
       "    <tr>\n",
       "      <th>0</th>\n",
       "      <td>19</td>\n",
       "      <td>1</td>\n",
       "      <td>27.900</td>\n",
       "      <td>0</td>\n",
       "      <td>1</td>\n",
       "      <td>3</td>\n",
       "    </tr>\n",
       "    <tr>\n",
       "      <th>1</th>\n",
       "      <td>18</td>\n",
       "      <td>0</td>\n",
       "      <td>33.770</td>\n",
       "      <td>1</td>\n",
       "      <td>0</td>\n",
       "      <td>2</td>\n",
       "    </tr>\n",
       "    <tr>\n",
       "      <th>2</th>\n",
       "      <td>28</td>\n",
       "      <td>0</td>\n",
       "      <td>33.000</td>\n",
       "      <td>3</td>\n",
       "      <td>0</td>\n",
       "      <td>2</td>\n",
       "    </tr>\n",
       "    <tr>\n",
       "      <th>3</th>\n",
       "      <td>33</td>\n",
       "      <td>0</td>\n",
       "      <td>22.705</td>\n",
       "      <td>0</td>\n",
       "      <td>0</td>\n",
       "      <td>0</td>\n",
       "    </tr>\n",
       "    <tr>\n",
       "      <th>4</th>\n",
       "      <td>32</td>\n",
       "      <td>0</td>\n",
       "      <td>28.880</td>\n",
       "      <td>0</td>\n",
       "      <td>0</td>\n",
       "      <td>0</td>\n",
       "    </tr>\n",
       "    <tr>\n",
       "      <th>...</th>\n",
       "      <td>...</td>\n",
       "      <td>...</td>\n",
       "      <td>...</td>\n",
       "      <td>...</td>\n",
       "      <td>...</td>\n",
       "      <td>...</td>\n",
       "    </tr>\n",
       "    <tr>\n",
       "      <th>1333</th>\n",
       "      <td>50</td>\n",
       "      <td>0</td>\n",
       "      <td>30.970</td>\n",
       "      <td>3</td>\n",
       "      <td>0</td>\n",
       "      <td>0</td>\n",
       "    </tr>\n",
       "    <tr>\n",
       "      <th>1334</th>\n",
       "      <td>18</td>\n",
       "      <td>1</td>\n",
       "      <td>31.920</td>\n",
       "      <td>0</td>\n",
       "      <td>0</td>\n",
       "      <td>1</td>\n",
       "    </tr>\n",
       "    <tr>\n",
       "      <th>1335</th>\n",
       "      <td>18</td>\n",
       "      <td>1</td>\n",
       "      <td>36.850</td>\n",
       "      <td>0</td>\n",
       "      <td>0</td>\n",
       "      <td>2</td>\n",
       "    </tr>\n",
       "    <tr>\n",
       "      <th>1336</th>\n",
       "      <td>21</td>\n",
       "      <td>1</td>\n",
       "      <td>25.800</td>\n",
       "      <td>0</td>\n",
       "      <td>0</td>\n",
       "      <td>3</td>\n",
       "    </tr>\n",
       "    <tr>\n",
       "      <th>1337</th>\n",
       "      <td>61</td>\n",
       "      <td>1</td>\n",
       "      <td>29.070</td>\n",
       "      <td>0</td>\n",
       "      <td>1</td>\n",
       "      <td>0</td>\n",
       "    </tr>\n",
       "  </tbody>\n",
       "</table>\n",
       "<p>1337 rows × 6 columns</p>\n",
       "</div>"
      ],
      "text/plain": [
       "      age  sex     bmi  children  smoker  region\n",
       "0      19    1  27.900         0       1       3\n",
       "1      18    0  33.770         1       0       2\n",
       "2      28    0  33.000         3       0       2\n",
       "3      33    0  22.705         0       0       0\n",
       "4      32    0  28.880         0       0       0\n",
       "...   ...  ...     ...       ...     ...     ...\n",
       "1333   50    0  30.970         3       0       0\n",
       "1334   18    1  31.920         0       0       1\n",
       "1335   18    1  36.850         0       0       2\n",
       "1336   21    1  25.800         0       0       3\n",
       "1337   61    1  29.070         0       1       0\n",
       "\n",
       "[1337 rows x 6 columns]"
      ]
     },
     "execution_count": 80,
     "metadata": {},
     "output_type": "execute_result"
    }
   ],
   "source": [
    "x"
   ]
  },
  {
   "cell_type": "code",
   "execution_count": 81,
   "id": "3d8a3b60",
   "metadata": {},
   "outputs": [
    {
     "data": {
      "text/plain": [
       "0       16884.92400\n",
       "1        1725.55230\n",
       "2        4449.46200\n",
       "3       21984.47061\n",
       "4        3866.85520\n",
       "           ...     \n",
       "1333    10600.54830\n",
       "1334     2205.98080\n",
       "1335     1629.83350\n",
       "1336     2007.94500\n",
       "1337    29141.36030\n",
       "Name: charges, Length: 1337, dtype: float64"
      ]
     },
     "execution_count": 81,
     "metadata": {},
     "output_type": "execute_result"
    }
   ],
   "source": [
    "y"
   ]
  },
  {
   "cell_type": "code",
   "execution_count": 82,
   "id": "e1b4b386",
   "metadata": {},
   "outputs": [],
   "source": [
    "#Traning and testing data creation\n",
    "from sklearn.model_selection import train_test_split\n",
    "x_train,x_test,y_train,y_test=train_test_split(x,y,test_size=0.25,random_state=4)"
   ]
  },
  {
   "cell_type": "code",
   "execution_count": 83,
   "id": "b8443f40",
   "metadata": {},
   "outputs": [
    {
     "data": {
      "text/html": [
       "<div>\n",
       "<style scoped>\n",
       "    .dataframe tbody tr th:only-of-type {\n",
       "        vertical-align: middle;\n",
       "    }\n",
       "\n",
       "    .dataframe tbody tr th {\n",
       "        vertical-align: top;\n",
       "    }\n",
       "\n",
       "    .dataframe thead th {\n",
       "        text-align: right;\n",
       "    }\n",
       "</style>\n",
       "<table border=\"1\" class=\"dataframe\">\n",
       "  <thead>\n",
       "    <tr style=\"text-align: right;\">\n",
       "      <th></th>\n",
       "      <th>age</th>\n",
       "      <th>sex</th>\n",
       "      <th>bmi</th>\n",
       "      <th>children</th>\n",
       "      <th>smoker</th>\n",
       "      <th>region</th>\n",
       "    </tr>\n",
       "  </thead>\n",
       "  <tbody>\n",
       "    <tr>\n",
       "      <th>315</th>\n",
       "      <td>52</td>\n",
       "      <td>0</td>\n",
       "      <td>33.250</td>\n",
       "      <td>0</td>\n",
       "      <td>0</td>\n",
       "      <td>1</td>\n",
       "    </tr>\n",
       "    <tr>\n",
       "      <th>597</th>\n",
       "      <td>34</td>\n",
       "      <td>1</td>\n",
       "      <td>33.250</td>\n",
       "      <td>1</td>\n",
       "      <td>0</td>\n",
       "      <td>1</td>\n",
       "    </tr>\n",
       "    <tr>\n",
       "      <th>612</th>\n",
       "      <td>18</td>\n",
       "      <td>1</td>\n",
       "      <td>33.155</td>\n",
       "      <td>0</td>\n",
       "      <td>0</td>\n",
       "      <td>1</td>\n",
       "    </tr>\n",
       "    <tr>\n",
       "      <th>462</th>\n",
       "      <td>62</td>\n",
       "      <td>1</td>\n",
       "      <td>38.095</td>\n",
       "      <td>2</td>\n",
       "      <td>0</td>\n",
       "      <td>1</td>\n",
       "    </tr>\n",
       "    <tr>\n",
       "      <th>399</th>\n",
       "      <td>18</td>\n",
       "      <td>1</td>\n",
       "      <td>38.170</td>\n",
       "      <td>0</td>\n",
       "      <td>0</td>\n",
       "      <td>2</td>\n",
       "    </tr>\n",
       "    <tr>\n",
       "      <th>...</th>\n",
       "      <td>...</td>\n",
       "      <td>...</td>\n",
       "      <td>...</td>\n",
       "      <td>...</td>\n",
       "      <td>...</td>\n",
       "      <td>...</td>\n",
       "    </tr>\n",
       "    <tr>\n",
       "      <th>360</th>\n",
       "      <td>48</td>\n",
       "      <td>1</td>\n",
       "      <td>32.300</td>\n",
       "      <td>2</td>\n",
       "      <td>0</td>\n",
       "      <td>1</td>\n",
       "    </tr>\n",
       "    <tr>\n",
       "      <th>710</th>\n",
       "      <td>18</td>\n",
       "      <td>0</td>\n",
       "      <td>35.200</td>\n",
       "      <td>1</td>\n",
       "      <td>0</td>\n",
       "      <td>2</td>\n",
       "    </tr>\n",
       "    <tr>\n",
       "      <th>439</th>\n",
       "      <td>26</td>\n",
       "      <td>0</td>\n",
       "      <td>29.450</td>\n",
       "      <td>0</td>\n",
       "      <td>0</td>\n",
       "      <td>1</td>\n",
       "    </tr>\n",
       "    <tr>\n",
       "      <th>174</th>\n",
       "      <td>24</td>\n",
       "      <td>1</td>\n",
       "      <td>33.345</td>\n",
       "      <td>0</td>\n",
       "      <td>0</td>\n",
       "      <td>0</td>\n",
       "    </tr>\n",
       "    <tr>\n",
       "      <th>1147</th>\n",
       "      <td>20</td>\n",
       "      <td>1</td>\n",
       "      <td>31.920</td>\n",
       "      <td>0</td>\n",
       "      <td>0</td>\n",
       "      <td>0</td>\n",
       "    </tr>\n",
       "  </tbody>\n",
       "</table>\n",
       "<p>1002 rows × 6 columns</p>\n",
       "</div>"
      ],
      "text/plain": [
       "      age  sex     bmi  children  smoker  region\n",
       "315    52    0  33.250         0       0       1\n",
       "597    34    1  33.250         1       0       1\n",
       "612    18    1  33.155         0       0       1\n",
       "462    62    1  38.095         2       0       1\n",
       "399    18    1  38.170         0       0       2\n",
       "...   ...  ...     ...       ...     ...     ...\n",
       "360    48    1  32.300         2       0       1\n",
       "710    18    0  35.200         1       0       2\n",
       "439    26    0  29.450         0       0       1\n",
       "174    24    1  33.345         0       0       0\n",
       "1147   20    1  31.920         0       0       0\n",
       "\n",
       "[1002 rows x 6 columns]"
      ]
     },
     "execution_count": 83,
     "metadata": {},
     "output_type": "execute_result"
    }
   ],
   "source": [
    "x_train"
   ]
  },
  {
   "cell_type": "code",
   "execution_count": 84,
   "id": "858a41c4",
   "metadata": {},
   "outputs": [
    {
     "data": {
      "text/plain": [
       "315      9722.76950\n",
       "597      5594.84550\n",
       "612      2207.69745\n",
       "462     15230.32405\n",
       "399      1631.66830\n",
       "           ...     \n",
       "360     10043.24900\n",
       "710      1727.54000\n",
       "439      2897.32350\n",
       "174      2855.43755\n",
       "1147     2261.56880\n",
       "Name: charges, Length: 1002, dtype: float64"
      ]
     },
     "execution_count": 84,
     "metadata": {},
     "output_type": "execute_result"
    }
   ],
   "source": [
    "y_train"
   ]
  },
  {
   "cell_type": "code",
   "execution_count": 85,
   "id": "f5959551",
   "metadata": {},
   "outputs": [],
   "source": [
    "from sklearn.ensemble import GradientBoostingRegressor"
   ]
  },
  {
   "cell_type": "code",
   "execution_count": 86,
   "id": "f9e5ce3c",
   "metadata": {},
   "outputs": [
    {
     "data": {
      "text/plain": [
       "GradientBoostingRegressor(random_state=42)"
      ]
     },
     "execution_count": 86,
     "metadata": {},
     "output_type": "execute_result"
    }
   ],
   "source": [
    "gb_regressor = GradientBoostingRegressor(n_estimators=100, learning_rate=0.1, random_state=42)\n",
    "gb_regressor.fit(x_train, y_train)"
   ]
  },
  {
   "cell_type": "code",
   "execution_count": 87,
   "id": "f00e2de3",
   "metadata": {},
   "outputs": [],
   "source": [
    "y_pred = gb_regressor.predict(x_test)"
   ]
  },
  {
   "cell_type": "code",
   "execution_count": 88,
   "id": "391af9c9",
   "metadata": {},
   "outputs": [],
   "source": [
    "y_pred_train = gb_regressor.predict(x_train)"
   ]
  },
  {
   "cell_type": "code",
   "execution_count": 89,
   "id": "35bd1976",
   "metadata": {},
   "outputs": [
    {
     "data": {
      "text/plain": [
       "0.8722706253288144"
      ]
     },
     "execution_count": 89,
     "metadata": {},
     "output_type": "execute_result"
    }
   ],
   "source": [
    "## evaluatin the model\n",
    "from sklearn.metrics import r2_score, mean_absolute_error, mean_squared_error # to check model performance\n",
    "r2_score(y_test, y_pred) "
   ]
  },
  {
   "cell_type": "code",
   "execution_count": 90,
   "id": "55b4872e",
   "metadata": {},
   "outputs": [
    {
     "data": {
      "text/plain": [
       "0.9011669345638776"
      ]
     },
     "execution_count": 90,
     "metadata": {},
     "output_type": "execute_result"
    }
   ],
   "source": [
    "r2_score(y_train, y_pred_train)"
   ]
  },
  {
   "cell_type": "code",
   "execution_count": 91,
   "id": "3707c358",
   "metadata": {},
   "outputs": [
    {
     "data": {
      "text/plain": [
       "14567985.031186923"
      ]
     },
     "execution_count": 91,
     "metadata": {},
     "output_type": "execute_result"
    }
   ],
   "source": [
    "mse = mean_squared_error(y_train, y_pred_train)\n",
    "mse"
   ]
  },
  {
   "cell_type": "code",
   "execution_count": 92,
   "id": "cc8a6af1",
   "metadata": {},
   "outputs": [
    {
     "data": {
      "text/plain": [
       "2140.99124872238"
      ]
     },
     "execution_count": 92,
     "metadata": {},
     "output_type": "execute_result"
    }
   ],
   "source": [
    "mae = mean_absolute_error(y_train, y_pred_train)\n",
    "mae"
   ]
  },
  {
   "cell_type": "code",
   "execution_count": 93,
   "id": "fc7351b5",
   "metadata": {},
   "outputs": [
    {
     "data": {
      "text/plain": [
       "3816.8029856395424"
      ]
     },
     "execution_count": 93,
     "metadata": {},
     "output_type": "execute_result"
    }
   ],
   "source": [
    "import math \n",
    "rmse = math.sqrt(mse) #root mean squared error\n",
    "rmse"
   ]
  },
  {
   "cell_type": "code",
   "execution_count": 94,
   "id": "97bd0a85",
   "metadata": {},
   "outputs": [
    {
     "data": {
      "text/plain": [
       "0.8722706253288144"
      ]
     },
     "execution_count": 94,
     "metadata": {},
     "output_type": "execute_result"
    }
   ],
   "source": [
    "r2 = r2_score(y_test, y_pred)\n",
    "r2"
   ]
  },
  {
   "cell_type": "code",
   "execution_count": 95,
   "id": "66c7ecda",
   "metadata": {},
   "outputs": [
    {
     "data": {
      "text/plain": [
       "(335, 6)"
      ]
     },
     "execution_count": 95,
     "metadata": {},
     "output_type": "execute_result"
    }
   ],
   "source": [
    "x_test.shape"
   ]
  },
  {
   "cell_type": "code",
   "execution_count": 96,
   "id": "ff14abc3",
   "metadata": {},
   "outputs": [
    {
     "data": {
      "text/plain": [
       "0.8699341123775122"
      ]
     },
     "execution_count": 96,
     "metadata": {},
     "output_type": "execute_result"
    }
   ],
   "source": [
    "##calculation of adjusted r2 score\n",
    "adj_r2 = 1-(1-r2)*(335-1)/(335-6-1)\n",
    "adj_r2"
   ]
  },
  {
   "cell_type": "code",
   "execution_count": 97,
   "id": "e4f85dfb",
   "metadata": {},
   "outputs": [],
   "source": [
    "import xgboost "
   ]
  },
  {
   "cell_type": "code",
   "execution_count": 98,
   "id": "38bfa8a4",
   "metadata": {},
   "outputs": [
    {
     "name": "stdout",
     "output_type": "stream",
     "text": [
      "<class 'pandas.core.frame.DataFrame'>\n",
      "Int64Index: 1002 entries, 315 to 1147\n",
      "Data columns (total 6 columns):\n",
      " #   Column    Non-Null Count  Dtype  \n",
      "---  ------    --------------  -----  \n",
      " 0   age       1002 non-null   int64  \n",
      " 1   sex       1002 non-null   int64  \n",
      " 2   bmi       1002 non-null   float64\n",
      " 3   children  1002 non-null   int64  \n",
      " 4   smoker    1002 non-null   int64  \n",
      " 5   region    1002 non-null   int64  \n",
      "dtypes: float64(1), int64(5)\n",
      "memory usage: 54.8 KB\n"
     ]
    }
   ],
   "source": [
    "x_train.info()"
   ]
  },
  {
   "cell_type": "code",
   "execution_count": 99,
   "id": "364a54a0",
   "metadata": {},
   "outputs": [
    {
     "data": {
      "text/plain": [
       "dtype('float64')"
      ]
     },
     "execution_count": 99,
     "metadata": {},
     "output_type": "execute_result"
    }
   ],
   "source": [
    "x_train.bmi.dtype"
   ]
  },
  {
   "cell_type": "code",
   "execution_count": 100,
   "id": "ae24ac5e",
   "metadata": {},
   "outputs": [],
   "source": [
    "x_train.bmi = x_train.bmi.astype('int32')   #since data is in object type"
   ]
  },
  {
   "cell_type": "code",
   "execution_count": 101,
   "id": "8aa768f4",
   "metadata": {},
   "outputs": [],
   "source": [
    "x_test.bmi = x_test.bmi.astype('int32')"
   ]
  },
  {
   "cell_type": "code",
   "execution_count": 102,
   "id": "7bd42324",
   "metadata": {},
   "outputs": [
    {
     "data": {
      "text/plain": [
       "dtype('int32')"
      ]
     },
     "execution_count": 102,
     "metadata": {},
     "output_type": "execute_result"
    }
   ],
   "source": [
    "x_train.bmi.dtype"
   ]
  },
  {
   "cell_type": "code",
   "execution_count": 103,
   "id": "8ba6e837",
   "metadata": {},
   "outputs": [
    {
     "data": {
      "text/plain": [
       "XGBRegressor(base_score=None, booster=None, callbacks=None,\n",
       "             colsample_bylevel=None, colsample_bynode=None,\n",
       "             colsample_bytree=None, early_stopping_rounds=None,\n",
       "             enable_categorical=False, eval_metric=None, feature_types=None,\n",
       "             gamma=None, gpu_id=None, grow_policy=None, importance_type=None,\n",
       "             interaction_constraints=None, learning_rate=None, max_bin=None,\n",
       "             max_cat_threshold=None, max_cat_to_onehot=None,\n",
       "             max_delta_step=None, max_depth=None, max_leaves=None,\n",
       "             min_child_weight=None, missing=nan, monotone_constraints=None,\n",
       "             n_estimators=100, n_jobs=None, num_parallel_tree=None,\n",
       "             predictor=None, random_state=None, ...)"
      ]
     },
     "execution_count": 103,
     "metadata": {},
     "output_type": "execute_result"
    }
   ],
   "source": [
    "## model creation\n",
    "from xgboost import XGBRegressor\n",
    "xgb_r = XGBRegressor() \n",
    "xgb_r.fit(x_train, y_train)"
   ]
  },
  {
   "cell_type": "code",
   "execution_count": 104,
   "id": "af4a5866",
   "metadata": {},
   "outputs": [
    {
     "data": {
      "text/plain": [
       "array([15310.753  , 13013.734  ,  8677.102  , 13721.864  ,  6827.1104 ,\n",
       "        1276.2665 , 10285.604  , 24457.598  , 25399.207  ,  1462.7843 ,\n",
       "        9839.904  , 39158.973  , 21800.324  , 11269.464  , 10334.178  ,\n",
       "       51835.867  , 12560.055  , 11363.345  , 26690.375  ,  1626.8762 ,\n",
       "        2330.8242 , 15084.464  ,  5972.468  ,  5000.575  ,  8317.252  ,\n",
       "       23004.473  , 30087.621  ,  7240.509  , 39552.812  , 21026.871  ,\n",
       "        2330.3342 , -1434.9612 , 13550.355  ,  6751.997  ,  5669.109  ,\n",
       "        2085.9614 , 15996.077  ,  8861.825  ,  4917.074  ,  2638.7021 ,\n",
       "       12329.397  , 14761.396  ,  5182.4463 , 22562.477  , 18164.594  ,\n",
       "       10922.5625 , 25604.873  ,  2823.33   ,  8383.157  , 10044.974  ,\n",
       "        5987.6387 ,  6961.051  , 15859.726  ,  3421.2102 ,  2414.681  ,\n",
       "       14621.056  , 12271.932  ,  2441.33   ,  1147.4661 ,  2463.4993 ,\n",
       "        7190.687  ,  8222.793  ,  2128.5515 , 14311.648  , 28120.81   ,\n",
       "        8227.617  ,  6143.0054 ,  5289.6562 , 13276.889  , 14354.418  ,\n",
       "       35243.734  ,  6701.217  ,  5378.0977 ,  9199.241  , 20184.803  ,\n",
       "       20733.807  ,  1850.0835 , 15505.986  , 52918.734  ,  9366.808  ,\n",
       "       36211.92   , 22673.66   , 35278.957  , 15597.169  ,  1576.4388 ,\n",
       "        7107.23   , 18893.201  , 46686.156  , 13232.822  ,  8271.642  ,\n",
       "        7890.397  , 11399.591  , 19160.582  , 19025.059  , 11905.284  ,\n",
       "        2020.694  ,  6017.207  , 40866.37   , 20949.5    ,  7933.109  ,\n",
       "        2464.9495 , 13180.312  , 10854.964  ,  -211.79385, 36033.43   ,\n",
       "       10539.027  ,  5757.977  ,  1131.3667 ,  9702.564  ,  3820.4473 ,\n",
       "       13452.367  , 17324.871  ,  2348.5781 ,  6416.2095 , 11343.605  ,\n",
       "        7167.277  , 13359.472  ,  5512.722  , 15465.849  , 19873.832  ,\n",
       "       25099.322  ,  1017.3746 , 12861.45   ,  9849.192  ,  9087.083  ,\n",
       "        6922.2515 ,  4270.8843 ,  6329.5537 ,  1433.902  ,  2169.5945 ,\n",
       "        1471.5197 , 14988.239  ,  1441.029  , 16041.743  , 11698.496  ,\n",
       "        7114.458  ,  5902.247  ,  1592.0221 ,  8018.6714 ,  2135.7126 ,\n",
       "        9341.194  ,  5367.39   , 12395.796  , 24369.9    , 13580.576  ,\n",
       "       11134.648  ,  2868.2146 , 16935.107  , 10575.685  ,  1851.071  ,\n",
       "        6302.304  ,  3392.395  ,  3586.8289 , 13919.207  ,  8896.617  ,\n",
       "       12347.815  , 42058.58   , 45975.51   ,  8609.416  , 12003.188  ,\n",
       "        2686.7456 , 11529.612  ,  3229.2073 ,  1158.0983 , 10408.285  ,\n",
       "       14529.301  , 11081.859  , 11007.849  , 20858.29   , 22761.46   ,\n",
       "        7504.581  ,  2425.6929 ,  4250.588  , 18826.094  , 10772.995  ,\n",
       "       11265.399  ,  7428.9316 ,  4866.716  ,  9129.061  , 22040.846  ,\n",
       "       13875.751  , 22482.236  ,  5842.397  ,  8227.215  ,  4920.969  ,\n",
       "        3792.902  , 26804.371  ,  9525.479  , 46388.26   ,  4936.0913 ,\n",
       "       16799.598  ,  4401.863  , 25150.115  , 27867.473  , 14720.249  ,\n",
       "       17406.922  ,  1229.2285 ,  9036.225  , 10691.902  ,  9371.676  ,\n",
       "        4864.7646 ,  6075.35   , 13537.598  ,  1173.5721 ,   994.0819 ,\n",
       "       14205.807  , 15776.928  , 10479.638  ,  6336.696  ,  6245.2007 ,\n",
       "        3346.8713 ,  1687.5845 ,  8254.114  , 38784.62   , 50453.633  ,\n",
       "        6309.5903 ,  1980.799  ,  2458.2634 , 33742.53   ,   995.43317,\n",
       "       20554.365  ,  5248.024  ,  7197.664  ,  8527.808  ,  3981.1572 ,\n",
       "       19501.797  ,  3784.7275 , 49620.316  ,  8586.715  ,  6188.6743 ,\n",
       "        7101.725  ,  6427.228  , 25654.66   ,  5294.523  ,  1037.5548 ,\n",
       "        5237.2095 ,  7410.5586 , 10440.576  , 10017.521  , 48172.18   ,\n",
       "       29838.035  ,  6192.7065 , 30252.88   ,  9698.459  , 20111.262  ,\n",
       "        5798.8154 ,  7562.6997 ,  1425.9052 , 17211.18   , 17818.277  ,\n",
       "        8436.45   , 12718.815  ,  4250.0522 , 44092.06   , 13125.074  ,\n",
       "        8584.262  , 42220.254  ,  5869.0737 ,  8017.7935 ,  5239.548  ,\n",
       "       13980.607  , 16992.492  ,  4650.78   , 45453.48   ,  6310.669  ,\n",
       "       25397.611  , 24541.17   , 12368.819  ,  9036.493  ,  8000.655  ,\n",
       "        1229.2285 , 16825.93   ,  5412.736  ,  3148.5947 ,  7476.018  ,\n",
       "        2757.489  , 20558.598  , 23222.334  ,  7414.7637 , 43785.848  ,\n",
       "       38038.992  ,  5710.6626 , 41474.96   ,  2064.1577 , 36866.66   ,\n",
       "       47104.844  , 25245.936  ,  3010.2854 , 14247.886  , 13570.342  ,\n",
       "       11320.99   , 12595.096  , 10368.364  , 37623.31   ,  3865.0146 ,\n",
       "       37610.74   ,  5242.899  ,  5723.281  , 11523.958  , 10969.465  ,\n",
       "       15487.277  , 32809.76   ,  -490.4348 ,  6843.8784 , 14504.658  ,\n",
       "       37078.78   ,  6137.323  , 18154.572  , 11741.177  , 11730.739  ,\n",
       "       22984.295  , 36792.58   ,  6506.578  , 11876.581  ,  3663.6865 ,\n",
       "       18676.775  , 15812.737  , 12301.576  , 13951.629  ,  5708.0215 ,\n",
       "       37513.047  , 13281.068  , 41042.76   ,  7499.0625 , 45655.184  ,\n",
       "        6013.8735 ,  2438.444  , 14121.434  , 10928.089  , 11444.519  ,\n",
       "        2788.4502 , 12495.144  , 12441.354  , 15150.23   , 49881.355  ],\n",
       "      dtype=float32)"
      ]
     },
     "execution_count": 104,
     "metadata": {},
     "output_type": "execute_result"
    }
   ],
   "source": [
    "y_pre = xgb_r.predict(x_test)\n",
    "y_pre"
   ]
  },
  {
   "cell_type": "code",
   "execution_count": 105,
   "id": "27f24600",
   "metadata": {},
   "outputs": [
    {
     "data": {
      "text/plain": [
       "array([10793.308 ,  6721.495 ,  3475.5823, ...,  3299.7205,  3446.578 ,\n",
       "        1932.4479], dtype=float32)"
      ]
     },
     "execution_count": 105,
     "metadata": {},
     "output_type": "execute_result"
    }
   ],
   "source": [
    "y_pre_train = xgb_r.predict(x_train)\n",
    "y_pre_train"
   ]
  },
  {
   "cell_type": "code",
   "execution_count": 106,
   "id": "dc024415",
   "metadata": {},
   "outputs": [
    {
     "data": {
      "text/plain": [
       "0.9931250716843162"
      ]
     },
     "execution_count": 106,
     "metadata": {},
     "output_type": "execute_result"
    }
   ],
   "source": [
    "r2_score(y_train,y_pre_train)"
   ]
  },
  {
   "cell_type": "code",
   "execution_count": 107,
   "id": "64abd5bb",
   "metadata": {},
   "outputs": [
    {
     "data": {
      "text/plain": [
       "0.8268294019294226"
      ]
     },
     "execution_count": 107,
     "metadata": {},
     "output_type": "execute_result"
    }
   ],
   "source": [
    "r2_score(y_test,y_pre)"
   ]
  },
  {
   "cell_type": "markdown",
   "id": "c3ded9a1",
   "metadata": {},
   "source": [
    "### 4. MODELLING WITH  DECISION TREE ALGORITHM"
   ]
  },
  {
   "cell_type": "code",
   "execution_count": 108,
   "id": "ccd9cca2",
   "metadata": {},
   "outputs": [
    {
     "data": {
      "text/plain": [
       "array([16115.3045  , 11833.7823  ,  8457.818   , 28476.73499 ,\n",
       "        7935.29115 ,  1720.3537  , 11093.6229  , 20234.85475 ,\n",
       "       28868.6639  ,  1744.465   ,  9447.25035 , 39836.519   ,\n",
       "       26125.67477 , 11353.2276  ,  8825.086   , 43578.9394  ,\n",
       "       11938.25595 , 10965.446   , 30942.1918  ,  1980.07    ,\n",
       "        1135.9407  , 13880.949   ,  5630.45785 ,  4719.52405 ,\n",
       "        9095.06825 , 19964.7463  , 28101.33305 ,  6770.1925  ,\n",
       "       39983.42595 , 27117.99378 ,  2741.948   ,  1253.936   ,\n",
       "       14001.1338  ,  3877.30425 ,  6457.8434  ,  2741.948   ,\n",
       "       12982.8747  , 10118.424   ,  5267.81815 ,  1704.5681  ,\n",
       "       13019.16105 , 29186.48236 ,  5246.047   , 20234.85475 ,\n",
       "       21232.18226 ,  8062.764   , 23967.38305 ,  2217.46915 ,\n",
       "        9549.5651  , 20462.99766 ,  5267.81815 ,  3757.8448  ,\n",
       "       13747.87235 ,  5002.7827  ,  2155.6815  ,  8062.764   ,\n",
       "       11163.568   ,  2203.6039  ,  1727.785   ,  2855.43755 ,\n",
       "       23563.01618 ,  6710.1919  , 17878.90068 , 29186.48236 ,\n",
       "       28101.33305 , 17929.30337 ,  7133.9025  ,  4571.41305 ,\n",
       "        9625.92    , 13462.52    , 36085.219   ,  6940.90985 ,\n",
       "        4357.04365 ,  2566.4707  , 19515.5416  , 30284.64294 ,\n",
       "        2196.4732  , 12913.9924  , 47462.894   , 10085.846   ,\n",
       "       33750.2918  , 19496.71917 , 37270.1512  , 23241.47453 ,\n",
       "        1980.07    ,  5729.0053  , 18972.495   , 45008.9555  ,\n",
       "        8988.15875 ,  7789.635   ,  8062.764   , 11856.4115  ,\n",
       "       16884.924   , 18972.495   , 19673.33573 ,  1146.7966  ,\n",
       "        5699.8375  , 40103.89    , 19964.7463  ,  7345.7266  ,\n",
       "        3070.8087  , 12044.342   , 13019.16105 ,  2566.4707  ,\n",
       "       33475.81715 , 10436.096   ,  6196.448   ,  1727.54    ,\n",
       "        7742.1098  ,  2709.177925, 12268.63225 , 12949.1554  ,\n",
       "        3471.4096  ,  4949.7587  , 12797.20962 , 27375.90478 ,\n",
       "        8516.829   , 17878.90068 , 10085.846   , 19798.05455 ,\n",
       "       22218.1149  ,  2134.9015  , 12982.8747  , 25333.33284 ,\n",
       "        8124.4084  ,  3987.926   ,  2150.469   ,  7526.70645 ,\n",
       "        1832.094   ,  1906.35825 ,  1632.03625 , 21232.18226 ,\n",
       "        3591.48    , 28340.18885 , 10976.24575 ,  6117.4945  ,\n",
       "        6770.1925  ,  2020.177   ,  4185.0979  ,  1712.227   ,\n",
       "       18806.14547 ,  7243.8136  , 13047.33235 , 15817.9857  ,\n",
       "       13887.9685  , 12523.6048  ,  1632.03625 , 13747.87235 ,\n",
       "        8062.764   ,  1744.465   ,  6356.2707  ,  2643.2685  ,\n",
       "        4449.462   ,  3208.787   , 11165.41765 , 12044.342   ,\n",
       "       36950.2567  , 42111.6647  ,  9563.029   , 11512.405   ,\n",
       "        1704.5681  ,  4846.92015 ,  4544.2348  ,  1705.6245  ,\n",
       "       15828.82173 ,  8280.6227  , 27117.99378 ,  4747.0529  ,\n",
       "       23967.38305 , 21259.37795 ,  7050.0213  ,  3208.787   ,\n",
       "        3591.48    , 28923.13692 ,  4151.0287  ,  1727.785   ,\n",
       "        7050.0213  ,  4441.21315 , 12609.88702 , 25678.77845 ,\n",
       "       14001.1338  , 22218.1149  ,  6338.0756  ,  6571.02435 ,\n",
       "        5484.4673  ,  4670.64    , 35147.52848 ,  3594.17085 ,\n",
       "       43578.9394  ,  4435.0942  , 14478.33015 , 11884.04858 ,\n",
       "       33471.97189 , 28868.6639  , 11286.5387  ,  8932.084   ,\n",
       "        1263.249   ,  7050.0213  , 10197.7722  , 20420.60465 ,\n",
       "        5400.9805  , 12797.20962 , 11070.535   ,  1981.5819  ,\n",
       "        2680.9493  ,  9957.7216  ,  6571.544   ,  8798.593   ,\n",
       "        4320.41085 ,  6555.07035 ,  2927.0647  ,  1631.74475 ,\n",
       "        6500.2359  , 39871.7043  , 47055.5321  ,  6770.1925  ,\n",
       "        1253.936   ,  1906.35825 , 35595.5898  ,  2597.779   ,\n",
       "       15230.32405 ,  4747.0529  , 10791.96    ,  7325.0482  ,\n",
       "        1981.5819  , 19444.2658  ,  4076.497   , 46661.4424  ,\n",
       "        9872.701   ,  6770.1925  ,  6117.4945  ,  4738.2682  ,\n",
       "       23568.272   ,  4719.73655 ,  1627.28245 , 17878.90068 ,\n",
       "        8302.53565 ,  4922.9159  , 10579.711   , 42969.8527  ,\n",
       "       28101.33305 ,  4320.41085 , 19964.7463  , 10370.91255 ,\n",
       "       18259.216   ,  2689.4954  ,  6186.127   ,  1708.0014  ,\n",
       "       17608.74505 , 15828.82173 ,  8688.85885 , 11150.78    ,\n",
       "        4266.1658  , 39727.614   , 13143.86485 ,  6875.961   ,\n",
       "       39871.7043  ,  6117.4945  ,  7050.0213  ,  3056.3881  ,\n",
       "       35160.13457 , 12268.63225 ,  2689.4954  , 46255.1125  ,\n",
       "        8538.28845 , 17560.37975 , 23065.4207  , 14394.5579  ,\n",
       "        9144.565   , 10436.096   ,  1263.249   , 12829.4551  ,\n",
       "        5615.369   ,  3594.17085 ,  5425.02335 ,  2203.6039  ,\n",
       "       13019.16105 , 14590.63205 ,  2689.4954  , 43578.9394  ,\n",
       "       39871.7043  ,  2842.76075 , 36950.2567  ,  3238.4357  ,\n",
       "       36219.40545 , 42111.6647  , 11187.6567  ,  5031.26955 ,\n",
       "       13635.6379  , 12815.44495 ,  6406.4107  ,  9625.92    ,\n",
       "        9182.17    , 40904.1995  ,  4846.92015 , 39611.7577  ,\n",
       "        4415.1588  ,  2497.0383  , 11566.30055 , 23563.01618 ,\n",
       "       10264.4421  , 33750.2918  ,  4687.797   ,  5976.8311  ,\n",
       "       26018.95052 , 39836.519   ,  6555.07035 , 26018.95052 ,\n",
       "        8603.8234  , 12233.828   , 28476.73499 , 36950.2567  ,\n",
       "        4320.41085 , 11253.421   ,  2304.0022  , 20277.80751 ,\n",
       "        3877.30425 , 12146.971   , 12268.63225 ,  4889.0368  ,\n",
       "       37165.1638  , 14478.33015 , 42124.5153  ,  6128.79745 ,\n",
       "       47291.055   ,  3987.926   ,  2203.6039  , 14901.5167  ,\n",
       "        9386.1613  , 11187.6567  ,  1824.2854  , 12224.35085 ,\n",
       "       30284.64294 , 11187.6567  , 43578.9394  ])"
      ]
     },
     "execution_count": 108,
     "metadata": {},
     "output_type": "execute_result"
    }
   ],
   "source": [
    "#Decision Tree\n",
    "from sklearn.tree import DecisionTreeRegressor  #importing decision tree from sklearn.tree\n",
    "model=DecisionTreeRegressor() #object creation for decision tree\n",
    "model.fit(x_train,y_train) #training the model\n",
    "# prediction with x_test\n",
    "y_pred=model.predict(x_test) \n",
    "y_pred"
   ]
  },
  {
   "cell_type": "code",
   "execution_count": 109,
   "id": "baad9613",
   "metadata": {},
   "outputs": [
    {
     "data": {
      "text/plain": [
       "array([9722.7695 , 5594.8455 , 2207.69745, ..., 2897.3235 , 2855.43755,\n",
       "       2261.5688 ])"
      ]
     },
     "execution_count": 109,
     "metadata": {},
     "output_type": "execute_result"
    }
   ],
   "source": [
    "# predictions with x_train\n",
    "y_train_predict=model.predict(x_train)\n",
    "y_train_predict"
   ]
  },
  {
   "cell_type": "markdown",
   "id": "2f45bf7c",
   "metadata": {},
   "source": [
    "### RANDOM FOREST"
   ]
  },
  {
   "cell_type": "code",
   "execution_count": 110,
   "id": "bcea1f66",
   "metadata": {},
   "outputs": [
    {
     "data": {
      "text/plain": [
       "RandomForestRegressor(random_state=42)"
      ]
     },
     "execution_count": 110,
     "metadata": {},
     "output_type": "execute_result"
    }
   ],
   "source": [
    "# Model Training\n",
    "# Train a Random Forest Classifier\n",
    "from sklearn.ensemble import RandomForestRegressor\n",
    "rf_Regressor = RandomForestRegressor(n_estimators=100, random_state=42)\n",
    "rf_Regressor.fit(x_train, y_train)"
   ]
  },
  {
   "cell_type": "code",
   "execution_count": 111,
   "id": "0f043043",
   "metadata": {},
   "outputs": [
    {
     "data": {
      "text/plain": [
       "array([16391.4651802 , 12165.5590803 ,  8986.8469976 , 15526.6408505 ,\n",
       "        9120.84830005,  1920.07116478, 11173.70833883, 21336.6681096 ,\n",
       "       28240.0340394 ,  1878.2198515 , 11229.5941382 , 40274.4253608 ,\n",
       "       19779.1234554 , 11442.5153165 ,  9968.0991576 , 46512.320637  ,\n",
       "       12555.11942513, 11279.9212427 , 29434.1870739 ,  1317.59509875,\n",
       "        1464.89138755, 13868.3330975 ,  6136.8503893 ,  4968.3139586 ,\n",
       "        9268.9801896 , 21659.311491  , 27547.5529055 ,  6662.3995592 ,\n",
       "       39867.4676312 , 14364.71227883,  2908.0302353 ,  1253.72697667,\n",
       "       14932.731975  ,  9315.2506289 ,  7177.7579135 ,  2526.374314  ,\n",
       "       14079.581424  ,  9740.1453005 ,  5096.5364594 ,  1698.2470845 ,\n",
       "       12746.2039551 , 14969.4607757 ,  5459.6836528 , 21028.7096401 ,\n",
       "       16593.2038718 , 11170.5551724 , 23295.518972  ,  3486.61754425,\n",
       "        9640.516802  , 12558.9067408 ,  5165.731525  ,  3796.380251  ,\n",
       "       16034.683602  ,  5650.4728414 ,  2725.1188584 , 11032.7989806 ,\n",
       "       12547.4209547 ,  2211.30696084,  1736.942252  ,  4277.2924478 ,\n",
       "        9611.8451368 ,  7493.6745847 ,  4923.7128499 , 17372.3002442 ,\n",
       "       27667.870981  , 11526.3585864 ,  9276.1562863 ,  5161.8904523 ,\n",
       "       11845.34751037, 13689.7113535 , 36203.3495239 ,  6676.005425  ,\n",
       "        4178.6128818 ,  6297.2277594 , 21240.6882969 , 17034.7627095 ,\n",
       "        2211.16148402, 15105.3427975 , 50897.3035433 , 11736.9940431 ,\n",
       "       34621.1552195 , 15658.0757491 , 36621.0906462 , 12606.1552989 ,\n",
       "        1461.44157765,  6463.2289438 , 18723.643702  , 46577.9303657 ,\n",
       "       12700.7987136 , 10369.486831  ,  8970.68665267, 11620.876361  ,\n",
       "       17700.323097  , 18972.523237  , 10424.491596  ,  2901.5918133 ,\n",
       "        6164.7187214 , 40619.1231275 , 20462.685504  , 10408.143496  ,\n",
       "        2721.528618  , 13717.2961332 , 13838.0308946 ,  4795.3931247 ,\n",
       "       34758.9809267 , 13458.3641996 ,  8042.0098221 ,  1879.361084  ,\n",
       "       10479.53111025,  2655.56916832, 12951.8677279 , 13846.6132436 ,\n",
       "        3808.2118485 ,  6371.3724738 , 13148.2448539 , 10127.2076813 ,\n",
       "       11358.5971452 ,  6971.0904714 , 13222.9436494 , 20099.8217235 ,\n",
       "       23333.627942  ,  2339.7485205 , 13221.181875  , 13067.4994362 ,\n",
       "        9851.8009566 ,  6095.92181007,  2620.8754647 , 10847.7878927 ,\n",
       "        1814.5693535 ,  2837.9404431 ,  1633.9592115 , 15175.2584584 ,\n",
       "        4104.1838878 , 14497.8744932 , 12006.08182263,  7441.3733172 ,\n",
       "        6830.3516545 ,  2099.7552973 ,  7140.8865147 ,  2255.8594791 ,\n",
       "       11624.5582645 ,  7252.4161484 , 16565.46626707, 18295.6044287 ,\n",
       "       14271.500085  , 12666.5265722 ,  2301.64088468, 16518.4797434 ,\n",
       "       10620.5777676 ,  1766.6449575 ,  9155.7475692 ,  2934.0352496 ,\n",
       "        4898.264684  ,  7207.6051648 , 11022.9946935 , 12693.1866085 ,\n",
       "       40377.9343694 , 43624.6778008 , 11249.9540145 , 15513.6050131 ,\n",
       "        1727.293596  ,  8183.8053813 ,  4179.7684884 ,  1704.1619785 ,\n",
       "       10760.3829479 , 10337.7247082 , 13034.44907045, 10578.1367422 ,\n",
       "       23796.5866581 , 22763.0772549 ,  7272.8423233 ,  5701.6525911 ,\n",
       "        6608.3606292 , 17554.769715  ,  8138.32127537,  2586.9564751 ,\n",
       "        8973.4559233 ,  4486.6472673 ,  7562.635305  , 24993.610624  ,\n",
       "       14341.549433  , 23825.4444835 ,  6982.4735025 ,  9000.6556615 ,\n",
       "        6491.2737682 ,  5528.1650173 , 26443.62255925,  8721.5970285 ,\n",
       "       46329.4845593 ,  5048.91873857, 13587.0145475 ,  6243.58267072,\n",
       "       20973.5659154 , 29038.3929145 , 13203.02719597, 10731.537585  ,\n",
       "        1270.82426825,  8531.9613047 , 12617.4115245 , 12403.002454  ,\n",
       "        7577.2581437 , 11358.33092155, 12311.36375323,  2461.8865451 ,\n",
       "        2922.4927371 , 12719.217916  , 12526.3028989 ,  9896.3637342 ,\n",
       "        5724.3921182 ,  6950.343765  ,  4988.156376  ,  1631.78300048,\n",
       "        6459.477416  , 39726.8269906 , 47885.0993545 ,  6644.8683085 ,\n",
       "        1252.319755  ,  2008.1899525 , 35827.0171652 ,  3026.76903697,\n",
       "       18027.656018  ,  5355.0647664 , 13121.0474026 ,  8893.12860955,\n",
       "        5485.7770309 , 20231.4667567 ,  4588.5175222 , 48090.8587143 ,\n",
       "        9607.1794675 ,  6718.2065905 , 10423.6841505 ,  6329.6748275 ,\n",
       "       26017.8152172 ,  5670.53828767,  1616.917899  ,  6993.56536   ,\n",
       "       10252.255613  , 10721.9421391 , 12524.7781099 , 43184.6396922 ,\n",
       "       27607.597694  ,  5881.2465364 , 20997.566493  , 11779.8855024 ,\n",
       "       18046.869522  ,  5987.8176579 ,  6258.7109985 ,  1707.2017695 ,\n",
       "       18041.89419233, 14030.4518807 , 10342.5433327 , 15448.7456197 ,\n",
       "        4578.7774275 , 42625.6653446 , 13097.4278835 ,  7392.4735501 ,\n",
       "       41022.1914317 , 10085.2601585 ,  7362.7495271 ,  6176.0455836 ,\n",
       "       15175.89794747, 14345.5502767 ,  4141.4651489 , 47392.0706976 ,\n",
       "        7676.0003795 , 25863.8841087 , 23910.161018  , 14285.0621646 ,\n",
       "       11932.8260556 , 11772.3793488 ,  1270.82426825, 16538.1315289 ,\n",
       "        7029.6028505 ,  6983.6711532 ,  7016.8803001 ,  2225.64878359,\n",
       "       16566.6410678 , 16257.92123   ,  5759.2581998 , 45645.6530596 ,\n",
       "       39827.3625979 ,  5952.5457353 , 41432.224034  ,  4488.3428547 ,\n",
       "       36297.3594117 , 45497.9093382 , 19576.5515364 ,  6430.6955601 ,\n",
       "       13985.4647599 , 13343.1337076 ,  8998.3705244 , 14461.49840853,\n",
       "       10445.5057693 , 38598.4810203 ,  6060.8852622 , 39862.2713313 ,\n",
       "        5711.006322  ,  3936.603214  , 11427.055415  ,  9694.5587736 ,\n",
       "       12351.41414227, 34308.9515506 ,  4619.7913807 ,  6730.1289711 ,\n",
       "       15697.4316336 , 40180.0621279 ,  7020.5598595 , 14812.93680382,\n",
       "        9782.1219128 , 13028.1222131 , 16164.1654962 , 37822.35830667,\n",
       "        5985.8602857 , 12382.2879597 ,  6300.0270111 , 12548.9878228 ,\n",
       "       10509.4080903 , 12569.7056915 , 14164.33239465,  5223.2875384 ,\n",
       "       39171.9733    , 11325.8077714 , 41094.5325929 ,  6566.2144853 ,\n",
       "       47923.5133775 ,  5804.1615113 ,  2225.36355559, 14155.3978445 ,\n",
       "       11985.5737233 , 13933.8662873 ,  2957.9049529 , 12282.8469617 ,\n",
       "       16182.8077438 , 13661.8000742 , 46679.1881666 ])"
      ]
     },
     "execution_count": 111,
     "metadata": {},
     "output_type": "execute_result"
    }
   ],
   "source": [
    "# Make predictions on the test set\n",
    "y_pred = rf_Regressor.predict(x_test)\n",
    "y_pred"
   ]
  },
  {
   "cell_type": "code",
   "execution_count": 112,
   "id": "1bf3e14f",
   "metadata": {},
   "outputs": [],
   "source": [
    "from sklearn.metrics import mean_squared_error, mean_absolute_error, r2_score"
   ]
  },
  {
   "cell_type": "code",
   "execution_count": 113,
   "id": "25c5dd55",
   "metadata": {},
   "outputs": [
    {
     "data": {
      "text/plain": [
       "19826348.40104325"
      ]
     },
     "execution_count": 113,
     "metadata": {},
     "output_type": "execute_result"
    }
   ],
   "source": [
    "mse = mean_squared_error(y_test, y_pred)\n",
    "mse"
   ]
  },
  {
   "cell_type": "code",
   "execution_count": 114,
   "id": "acd17d7f",
   "metadata": {},
   "outputs": [
    {
     "data": {
      "text/plain": [
       "2517.594551145165"
      ]
     },
     "execution_count": 114,
     "metadata": {},
     "output_type": "execute_result"
    }
   ],
   "source": [
    "mae = mean_absolute_error(y_test, y_pred)\n",
    "mae"
   ]
  },
  {
   "cell_type": "code",
   "execution_count": 115,
   "id": "3ffe754e",
   "metadata": {},
   "outputs": [
    {
     "data": {
      "text/plain": [
       "4452.678789340553"
      ]
     },
     "execution_count": 115,
     "metadata": {},
     "output_type": "execute_result"
    }
   ],
   "source": [
    "import math\n",
    "rmse = math.sqrt(mse)\n",
    "rmse"
   ]
  },
  {
   "cell_type": "code",
   "execution_count": 116,
   "id": "7f07caef",
   "metadata": {},
   "outputs": [
    {
     "data": {
      "text/plain": [
       "0.862209588998441"
      ]
     },
     "execution_count": 116,
     "metadata": {},
     "output_type": "execute_result"
    }
   ],
   "source": [
    "r2 = r2_score(y_test, y_pred)\n",
    "r2"
   ]
  },
  {
   "cell_type": "code",
   "execution_count": 117,
   "id": "dd9d7d6f",
   "metadata": {},
   "outputs": [
    {
     "data": {
      "text/plain": [
       "(335, 6)"
      ]
     },
     "execution_count": 117,
     "metadata": {},
     "output_type": "execute_result"
    }
   ],
   "source": [
    "x_test.shape"
   ]
  },
  {
   "cell_type": "code",
   "execution_count": 118,
   "id": "68295d7e",
   "metadata": {},
   "outputs": [
    {
     "data": {
      "text/plain": [
       "0.859689032699632"
      ]
     },
     "execution_count": 118,
     "metadata": {},
     "output_type": "execute_result"
    }
   ],
   "source": [
    "adj_r2 = 1-((1-r2)*(335-1))/(335-6-1)\n",
    "adj_r2"
   ]
  },
  {
   "cell_type": "markdown",
   "id": "7ef62be7",
   "metadata": {},
   "source": [
    "## HYPERPARAMETER TUNING"
   ]
  },
  {
   "cell_type": "code",
   "execution_count": 119,
   "id": "ef8a999a",
   "metadata": {},
   "outputs": [],
   "source": [
    "from sklearn.model_selection import RandomizedSearchCV\n",
    "\n",
    "param_grid = {'gamma': [0,0.1,0.2,0.4,0.8,1.6,3.2,6.4,12.8,25.6,51.2,102.4, 200],\n",
    "              'learning_rate': [0.01, 0.03, 0.06, 0.1, 0.15, 0.2, 0.25, 0.300000012, 0.4, 0.5, 0.6, 0.7],\n",
    "              'max_depth': [5,6,7,8,9,10,11,12,13,14],\n",
    "              'n_estimators': [50,65,80,100,115,130,150],\n",
    "              'reg_alpha': [0,0.1,0.2,0.4,0.8,1.6,3.2,6.4,12.8,25.6,51.2,102.4,200],\n",
    "              'reg_lambda': [0,0.1,0.2,0.4,0.8,1.6,3.2,6.4,12.8,25.6,51.2,102.4,200]}\n",
    "\n",
    "                               \n",
    "#estimator--number of decision tree\n",
    "#scoring--->performance matrix to check performance\n",
    "#param_distribution-->hyperparametes(dictionary we created)\n",
    "#n_iter--->Number of parameter settings that are sampled. n_iter trades off runtime vs quality of the solution.default=10\n",
    "##cv------> number of flods\n",
    "#verbose=Controls the verbosity: the higher, the more messages.\n",
    "#n_jobs---->Number of jobs to run in parallel,-1 means using all processors."
   ]
  },
  {
   "cell_type": "code",
   "execution_count": 120,
   "id": "dae9f0b4",
   "metadata": {},
   "outputs": [],
   "source": [
    "XGB = XGBRegressor(random_state = 42, verbosity = 0, silent = 0)"
   ]
  },
  {
   "cell_type": "code",
   "execution_count": 121,
   "id": "b77a522c",
   "metadata": {},
   "outputs": [],
   "source": [
    "rs = RandomizedSearchCV(estimator = XGB, scoring = 'f1', param_distributions = param_grid, n_iter = 100, cv = 3, \n",
    "                               verbose = 2, random_state = 42, n_jobs = -1)"
   ]
  },
  {
   "cell_type": "code",
   "execution_count": 122,
   "id": "4ed9cc01",
   "metadata": {},
   "outputs": [
    {
     "name": "stdout",
     "output_type": "stream",
     "text": [
      "Fitting 3 folds for each of 100 candidates, totalling 300 fits\n"
     ]
    },
    {
     "data": {
      "text/plain": [
       "RandomizedSearchCV(cv=3,\n",
       "                   estimator=XGBRegressor(base_score=None, booster=None,\n",
       "                                          callbacks=None,\n",
       "                                          colsample_bylevel=None,\n",
       "                                          colsample_bynode=None,\n",
       "                                          colsample_bytree=None,\n",
       "                                          early_stopping_rounds=None,\n",
       "                                          enable_categorical=False,\n",
       "                                          eval_metric=None, feature_types=None,\n",
       "                                          gamma=None, gpu_id=None,\n",
       "                                          grow_policy=None,\n",
       "                                          importance_type=None,\n",
       "                                          interaction_constraints=None,\n",
       "                                          learning_rate=...\n",
       "                                                  102.4, 200],\n",
       "                                        'learning_rate': [0.01, 0.03, 0.06, 0.1,\n",
       "                                                          0.15, 0.2, 0.25,\n",
       "                                                          0.300000012, 0.4, 0.5,\n",
       "                                                          0.6, 0.7],\n",
       "                                        'max_depth': [5, 6, 7, 8, 9, 10, 11, 12,\n",
       "                                                      13, 14],\n",
       "                                        'n_estimators': [50, 65, 80, 100, 115,\n",
       "                                                         130, 150],\n",
       "                                        'reg_alpha': [0, 0.1, 0.2, 0.4, 0.8,\n",
       "                                                      1.6, 3.2, 6.4, 12.8, 25.6,\n",
       "                                                      51.2, 102.4, 200],\n",
       "                                        'reg_lambda': [0, 0.1, 0.2, 0.4, 0.8,\n",
       "                                                       1.6, 3.2, 6.4, 12.8,\n",
       "                                                       25.6, 51.2, 102.4,\n",
       "                                                       200]},\n",
       "                   random_state=42, scoring='f1', verbose=2)"
      ]
     },
     "execution_count": 122,
     "metadata": {},
     "output_type": "execute_result"
    }
   ],
   "source": [
    "rs.fit(x_train, y_train)"
   ]
  },
  {
   "cell_type": "code",
   "execution_count": 123,
   "id": "cf79cd4c",
   "metadata": {},
   "outputs": [
    {
     "name": "stdout",
     "output_type": "stream",
     "text": [
      "Best paramters: {'reg_lambda': 1.6, 'reg_alpha': 12.8, 'n_estimators': 50, 'max_depth': 8, 'learning_rate': 0.6, 'gamma': 0})\n"
     ]
    }
   ],
   "source": [
    "cv_best_params = rs.best_params_ \n",
    "print(f\"Best paramters: {cv_best_params})\")"
   ]
  },
  {
   "cell_type": "code",
   "execution_count": 124,
   "id": "0f9446c7",
   "metadata": {},
   "outputs": [],
   "source": [
    "XGB2 = XGBRegressor(reg_lambda = 1.6, reg_alpha= 12.8, n_estimators=50, max_depth=8, learning_rate=0.6, gamma=0)"
   ]
  },
  {
   "cell_type": "code",
   "execution_count": 125,
   "id": "a8fb3cd5",
   "metadata": {},
   "outputs": [
    {
     "data": {
      "text/plain": [
       "XGBRegressor(base_score=None, booster=None, callbacks=None,\n",
       "             colsample_bylevel=None, colsample_bynode=None,\n",
       "             colsample_bytree=None, early_stopping_rounds=None,\n",
       "             enable_categorical=False, eval_metric=None, feature_types=None,\n",
       "             gamma=0, gpu_id=None, grow_policy=None, importance_type=None,\n",
       "             interaction_constraints=None, learning_rate=0.6, max_bin=None,\n",
       "             max_cat_threshold=None, max_cat_to_onehot=None,\n",
       "             max_delta_step=None, max_depth=8, max_leaves=None,\n",
       "             min_child_weight=None, missing=nan, monotone_constraints=None,\n",
       "             n_estimators=50, n_jobs=None, num_parallel_tree=None,\n",
       "             predictor=None, random_state=None, ...)"
      ]
     },
     "execution_count": 125,
     "metadata": {},
     "output_type": "execute_result"
    }
   ],
   "source": [
    "XGB2.fit(x_train, y_train)#training "
   ]
  },
  {
   "cell_type": "code",
   "execution_count": 126,
   "id": "f7d7cef4",
   "metadata": {},
   "outputs": [
    {
     "data": {
      "text/plain": [
       "array([15903.491  , 11604.497  ,  6975.3496 ,  9794.173  ,  6596.1157 ,\n",
       "        1292.4354 , 10682.296  , 23512.684  , 27814.14   ,  1035.5245 ,\n",
       "        9285.361  , 38362.793  , 19848.459  , 10666.531  ,  8680.49   ,\n",
       "       49079.71   , 12274.35   , 11852.039  , 32053.328  ,  1252.2391 ,\n",
       "        1364.2803 , 14157.007  ,  5547.9004 ,  4073.2637 ,  7337.112  ,\n",
       "       22884.918  , 27670.945  ,  6943.4805 , 35171.477  , 19367.096  ,\n",
       "         929.75305,  -348.12357, 11429.579  ,  6387.024  ,  4572.073  ,\n",
       "        6515.457  , 16508.365  ,  9028.915  ,  5540.3833 ,  1954.3264 ,\n",
       "       11362.5205 , 16514.578  ,  5589.1787 , 22583.277  , 16179.114  ,\n",
       "        9405.269  , 22218.693  ,  2273.1448 ,  9050.134  , 12735.326  ,\n",
       "        6183.915  ,  5379.2446 , 15780.473  ,  4342.144  ,  2186.5178 ,\n",
       "       11351.18   , 13855.21   ,  2246.5706 ,  1794.0383 ,  4422.742  ,\n",
       "        8824.814  , 12952.786  ,   143.17274, 19989.38   , 26949.025  ,\n",
       "        8457.846  ,  7008.651  ,  5900.904  , 13696.771  , 14253.191  ,\n",
       "       35868.758  ,  6466.6606 ,  3537.6997 ,  7097.7676 , 21644.227  ,\n",
       "       21151.053  ,   842.6959 , 12803.042  , 47486.953  ,  9985.768  ,\n",
       "       37979.74   , 13359.707  , 33120.375  , 19404.193  ,   633.11005,\n",
       "        8311.631  , 16336.053  , 47660.49   , 10713.8545 ,  6921.6475 ,\n",
       "        7961.279  , 11810.859  , 18423.188  , 19812.688  , 10933.633  ,\n",
       "        1642.4094 ,  7347.448  , 40126.188  , 18613.613  ,  8965.745  ,\n",
       "        2478.3613 , 14323.833  , 15955.902  ,  3366.3994 , 37565.     ,\n",
       "        9995.074  ,  7309.6587 ,   812.3383 ,  7980.057  ,  3031.0073 ,\n",
       "       11110.85   , 14644.337  ,  2698.2542 ,  5487.771  ,  8537.575  ,\n",
       "        9164.836  , 10617.32   ,  5069.776  , 13489.279  , 18695.613  ,\n",
       "       24409.63   ,  1851.2709 , 13401.315  ,  8212.077  ,  8642.178  ,\n",
       "        2869.8975 ,  9556.559  , 12597.925  ,  1395.1599 ,  1038.7516 ,\n",
       "        1644.3942 , 11783.353  ,  3454.9077 , 17852.625  , 12293.184  ,\n",
       "        7085.1963 ,  5798.0737 ,  1541.5653 ,  5799.383  ,   441.81665,\n",
       "        8952.656  ,  5417.308  , 12207.111  , 25263.102  , 13895.806  ,\n",
       "       11794.369  ,  2614.3428 , 14535.267  ,  8268.108  ,  3012.6116 ,\n",
       "        6464.4414 ,  8411.131  ,  4992.5757 , 11556.88   , 10920.153  ,\n",
       "       12874.526  , 42220.438  , 43583.594  ,  8602.408  , 15270.537  ,\n",
       "        2201.0093 ,  8353.027  ,   168.44713,  1571.4777 , 11914.721  ,\n",
       "       10355.701  , 10170.797  , 12344.734  , 21285.107  , 23751.307  ,\n",
       "        6822.0845 ,  2951.8555 ,  1584.898  , 16663.314  , 11109.084  ,\n",
       "        4645.4624 ,  7035.2847 ,  3576.6943 ,  7667.462  , 19745.305  ,\n",
       "       14071.878  , 23181.885  ,  3730.886  ,  7031.1074 ,  5205.7295 ,\n",
       "        2123.8657 , 26512.635  ,  9992.744  , 48645.27   ,  6088.0366 ,\n",
       "       10440.489  ,  8738.847  , 33099.71   , 30440.371  , 15356.287  ,\n",
       "       12151.815  ,   930.96265,  8831.002  , 11987.112  , 15528.336  ,\n",
       "        7006.5903 ,  8906.6875 , 16764.375  ,  -497.06857,   451.3588 ,\n",
       "       14574.956  , 11120.365  ,  7578.3276 ,  8018.2207 ,  7043.268  ,\n",
       "        2012.0277 ,  1681.4113 ,  7041.658  , 38819.516  , 48688.746  ,\n",
       "        5314.919  ,  5080.295  ,  2958.2898 , 34572.406  ,  2025.5612 ,\n",
       "       15792.554  ,  4842.2773 , 10085.024  ,  9668.153  ,  6459.732  ,\n",
       "       19820.01   ,  3522.952  , 46383.83   ,  9396.495  ,  5585.5806 ,\n",
       "        7630.683  ,  4486.835  , 27217.58   ,  6952.995  ,  -277.33917,\n",
       "        5494.9917 ,  4059.5764 ,  8750.007  , 10706.955  , 42226.98   ,\n",
       "       27011.082  ,  5597.9414 , 24955.865  , 11174.205  , 21988.385  ,\n",
       "        4652.849  ,  8516.996  ,   832.48517, 14572.6045 , 16963.213  ,\n",
       "        6589.494  , 12951.6875 ,  4633.4116 , 44495.64   , 13140.434  ,\n",
       "        8820.265  , 40993.293  ,  9270.555  ,  8986.056  , 11104.023  ,\n",
       "       14684.853  , 13789.856  ,  1493.2233 , 49702.47   ,  7086.369  ,\n",
       "       25700.271  , 26309.312  , 13515.46   ,  8695.023  ,  8320.854  ,\n",
       "         930.96265, 13656.339  ,  4500.7656 ,  3130.7742 ,  7126.427  ,\n",
       "        2843.3462 , 16949.484  , 26927.678  ,  4669.916  , 46657.688  ,\n",
       "       33276.383  ,  5232.523  , 41703.266  ,  4906.607  , 36430.88   ,\n",
       "       43687.02   , 22748.525  ,  4610.222  , 12063.006  , 20224.201  ,\n",
       "        9711.354  , 13265.2705 ,  9791.438  , 37918.195  ,  5053.716  ,\n",
       "       37479.344  ,  5207.773  ,  3840.0605 , 11524.32   , 12770.567  ,\n",
       "       12994.596  , 33264.715  ,  1931.7451 ,  6236.15   , 19016.467  ,\n",
       "       38283.4    ,  6515.291  , 17993.484  , 10307.123  , 12977.246  ,\n",
       "       23424.623  , 37283.938  ,  4166.769  , 11321.402  ,   672.645  ,\n",
       "       19028.994  , 15529.977  , 12633.709  , 17750.71   ,  5468.3696 ,\n",
       "       39670.19   , 15019.759  , 37383.336  ,  5630.924  , 47097.94   ,\n",
       "        6819.687  ,  2665.8398 , 13772.822  , 11826.153  , 14216.29   ,\n",
       "        2806.7097 , 15469.561  , 13916.256  ,  9634.586  , 48149.016  ],\n",
       "      dtype=float32)"
      ]
     },
     "execution_count": 126,
     "metadata": {},
     "output_type": "execute_result"
    }
   ],
   "source": [
    "y_predict = XGB2.predict(x_test)#testing\n",
    "y_predict"
   ]
  },
  {
   "cell_type": "code",
   "execution_count": 127,
   "id": "d8975357",
   "metadata": {},
   "outputs": [
    {
     "data": {
      "text/plain": [
       "array([9704.145 , 5622.4487, 2407.9878, ..., 2924.848 , 2841.64  ,\n",
       "       2151.0618], dtype=float32)"
      ]
     },
     "execution_count": 127,
     "metadata": {},
     "output_type": "execute_result"
    }
   ],
   "source": [
    "# predicting training data to check training performance\n",
    "y_train_pred=XGB2.predict(x_train)#testing\n",
    "y_train_pred"
   ]
  },
  {
   "cell_type": "code",
   "execution_count": 128,
   "id": "e18d0747",
   "metadata": {},
   "outputs": [
    {
     "data": {
      "text/plain": [
       "0.8192505191052515"
      ]
     },
     "execution_count": 128,
     "metadata": {},
     "output_type": "execute_result"
    }
   ],
   "source": [
    "r2_score(y_predict,y_test)"
   ]
  },
  {
   "cell_type": "code",
   "execution_count": 129,
   "id": "a0aff654",
   "metadata": {},
   "outputs": [
    {
     "data": {
      "text/plain": [
       "0.9991799255192046"
      ]
     },
     "execution_count": 129,
     "metadata": {},
     "output_type": "execute_result"
    }
   ],
   "source": [
    "r2_train = r2_score(y_train_pred, y_train)#checking performance\n",
    "r2_train"
   ]
  },
  {
   "cell_type": "code",
   "execution_count": 130,
   "id": "d2e2e514",
   "metadata": {},
   "outputs": [],
   "source": [
    "# "
   ]
  },
  {
   "cell_type": "markdown",
   "id": "fefbb641",
   "metadata": {},
   "source": [
    "# CONCLUSION\n",
    "* 1) Linear Regression: 0.78\n",
    "* 2) K-Nearest neighbour: 0.089\n",
    "* 3) Gradient and XG boosting: 0.82\n",
    "* 4) Decision Tree and random forest: 0.859\n",
    "\n",
    "\n",
    "\n",
    "\n",
    "\n",
    "\n",
    "\n",
    "\n",
    "\n",
    "\n",
    "\n",
    "\n",
    "\n",
    "\n",
    "\n",
    "\n",
    "After thorough experimentation and hyperparameter tuning, the model achieved an impressive accuracy score of \n",
    "99.92\n",
    "%\n",
    "99.92%. This indicates that the model correctly predicts \n",
    "99.92\n",
    "%\n",
    "99.92% of the instances in the dataset, suggesting a robust and highly accurate predictive performance. However, it is crucial to conduct further analysis to ensure that the high accuracy is not a result of overfitting. Techniques such as cross-validation and evaluation metrics beyond accuracy, including precision, recall, F1-score, and AUC-ROC, should be employed to comprehensively assess the model's performance. Additionally, the model's behavior on unseen or real-world data should be monitored to confirm its practical utility and reliability.\n",
    "\n",
    "Remember that while accuracy is an essential metric, it might not be the only metric to consider, especially if your dataset has class imbalances or if different types of errors have different costs in your application. Depending on the specific context of your problem, other metrics and domain knowledge should guide your final decision regarding the best model."
   ]
  }
 ],
 "metadata": {
  "kernelspec": {
   "display_name": "Python 3 (ipykernel)",
   "language": "python",
   "name": "python3"
  },
  "language_info": {
   "codemirror_mode": {
    "name": "ipython",
    "version": 3
   },
   "file_extension": ".py",
   "mimetype": "text/x-python",
   "name": "python",
   "nbconvert_exporter": "python",
   "pygments_lexer": "ipython3",
   "version": "3.9.13"
  }
 },
 "nbformat": 4,
 "nbformat_minor": 5
}
